{
 "cells": [
  {
   "cell_type": "markdown",
   "id": "6f8d8b23",
   "metadata": {},
   "source": [
    "# NYC Real Estate Price Prediction Model"
   ]
  },
  {
   "cell_type": "code",
   "execution_count": 1471,
   "id": "fbc9b46a",
   "metadata": {},
   "outputs": [],
   "source": [
    "import pandas as pd\n",
    "import numpy as np"
   ]
  },
  {
   "cell_type": "code",
   "execution_count": 1472,
   "id": "62380b8e",
   "metadata": {},
   "outputs": [],
   "source": [
    "#For Google Colab\n",
    "#url ='https://raw.githubusercontent.com/akutayaydin/Magnimind-1/main/nyc-rolling-sales.csv'\n",
    "#df = pd.read_csv(url)"
   ]
  },
  {
   "cell_type": "code",
   "execution_count": 1495,
   "id": "08c99a41",
   "metadata": {},
   "outputs": [
    {
     "data": {
      "text/html": [
       "<div>\n",
       "<style scoped>\n",
       "    .dataframe tbody tr th:only-of-type {\n",
       "        vertical-align: middle;\n",
       "    }\n",
       "\n",
       "    .dataframe tbody tr th {\n",
       "        vertical-align: top;\n",
       "    }\n",
       "\n",
       "    .dataframe thead th {\n",
       "        text-align: right;\n",
       "    }\n",
       "</style>\n",
       "<table border=\"1\" class=\"dataframe\">\n",
       "  <thead>\n",
       "    <tr style=\"text-align: right;\">\n",
       "      <th></th>\n",
       "      <th>Unnamed: 0</th>\n",
       "      <th>BOROUGH</th>\n",
       "      <th>NEIGHBORHOOD</th>\n",
       "      <th>BUILDING CLASS CATEGORY</th>\n",
       "      <th>TAX CLASS AT PRESENT</th>\n",
       "      <th>BLOCK</th>\n",
       "      <th>LOT</th>\n",
       "      <th>EASE-MENT</th>\n",
       "      <th>BUILDING CLASS AT PRESENT</th>\n",
       "      <th>ADDRESS</th>\n",
       "      <th>...</th>\n",
       "      <th>RESIDENTIAL UNITS</th>\n",
       "      <th>COMMERCIAL UNITS</th>\n",
       "      <th>TOTAL UNITS</th>\n",
       "      <th>LAND SQUARE FEET</th>\n",
       "      <th>GROSS SQUARE FEET</th>\n",
       "      <th>YEAR BUILT</th>\n",
       "      <th>TAX CLASS AT TIME OF SALE</th>\n",
       "      <th>BUILDING CLASS AT TIME OF SALE</th>\n",
       "      <th>SALE PRICE</th>\n",
       "      <th>SALE DATE</th>\n",
       "    </tr>\n",
       "  </thead>\n",
       "  <tbody>\n",
       "    <tr>\n",
       "      <th>0</th>\n",
       "      <td>4</td>\n",
       "      <td>1</td>\n",
       "      <td>ALPHABET CITY</td>\n",
       "      <td>07 RENTALS - WALKUP APARTMENTS</td>\n",
       "      <td>2A</td>\n",
       "      <td>392</td>\n",
       "      <td>6</td>\n",
       "      <td></td>\n",
       "      <td>C2</td>\n",
       "      <td>153 AVENUE B</td>\n",
       "      <td>...</td>\n",
       "      <td>5</td>\n",
       "      <td>0</td>\n",
       "      <td>5</td>\n",
       "      <td>1633</td>\n",
       "      <td>6440</td>\n",
       "      <td>1900</td>\n",
       "      <td>2</td>\n",
       "      <td>C2</td>\n",
       "      <td>6625000</td>\n",
       "      <td>2017-07-19 00:00:00</td>\n",
       "    </tr>\n",
       "    <tr>\n",
       "      <th>1</th>\n",
       "      <td>5</td>\n",
       "      <td>1</td>\n",
       "      <td>ALPHABET CITY</td>\n",
       "      <td>07 RENTALS - WALKUP APARTMENTS</td>\n",
       "      <td>2</td>\n",
       "      <td>399</td>\n",
       "      <td>26</td>\n",
       "      <td></td>\n",
       "      <td>C7</td>\n",
       "      <td>234 EAST 4TH   STREET</td>\n",
       "      <td>...</td>\n",
       "      <td>28</td>\n",
       "      <td>3</td>\n",
       "      <td>31</td>\n",
       "      <td>4616</td>\n",
       "      <td>18690</td>\n",
       "      <td>1900</td>\n",
       "      <td>2</td>\n",
       "      <td>C7</td>\n",
       "      <td>-</td>\n",
       "      <td>2016-12-14 00:00:00</td>\n",
       "    </tr>\n",
       "    <tr>\n",
       "      <th>2</th>\n",
       "      <td>6</td>\n",
       "      <td>1</td>\n",
       "      <td>ALPHABET CITY</td>\n",
       "      <td>07 RENTALS - WALKUP APARTMENTS</td>\n",
       "      <td>2</td>\n",
       "      <td>399</td>\n",
       "      <td>39</td>\n",
       "      <td></td>\n",
       "      <td>C7</td>\n",
       "      <td>197 EAST 3RD   STREET</td>\n",
       "      <td>...</td>\n",
       "      <td>16</td>\n",
       "      <td>1</td>\n",
       "      <td>17</td>\n",
       "      <td>2212</td>\n",
       "      <td>7803</td>\n",
       "      <td>1900</td>\n",
       "      <td>2</td>\n",
       "      <td>C7</td>\n",
       "      <td>-</td>\n",
       "      <td>2016-12-09 00:00:00</td>\n",
       "    </tr>\n",
       "    <tr>\n",
       "      <th>3</th>\n",
       "      <td>7</td>\n",
       "      <td>1</td>\n",
       "      <td>ALPHABET CITY</td>\n",
       "      <td>07 RENTALS - WALKUP APARTMENTS</td>\n",
       "      <td>2B</td>\n",
       "      <td>402</td>\n",
       "      <td>21</td>\n",
       "      <td></td>\n",
       "      <td>C4</td>\n",
       "      <td>154 EAST 7TH STREET</td>\n",
       "      <td>...</td>\n",
       "      <td>10</td>\n",
       "      <td>0</td>\n",
       "      <td>10</td>\n",
       "      <td>2272</td>\n",
       "      <td>6794</td>\n",
       "      <td>1913</td>\n",
       "      <td>2</td>\n",
       "      <td>C4</td>\n",
       "      <td>3936272</td>\n",
       "      <td>2016-09-23 00:00:00</td>\n",
       "    </tr>\n",
       "    <tr>\n",
       "      <th>4</th>\n",
       "      <td>8</td>\n",
       "      <td>1</td>\n",
       "      <td>ALPHABET CITY</td>\n",
       "      <td>07 RENTALS - WALKUP APARTMENTS</td>\n",
       "      <td>2A</td>\n",
       "      <td>404</td>\n",
       "      <td>55</td>\n",
       "      <td></td>\n",
       "      <td>C2</td>\n",
       "      <td>301 EAST 10TH   STREET</td>\n",
       "      <td>...</td>\n",
       "      <td>6</td>\n",
       "      <td>0</td>\n",
       "      <td>6</td>\n",
       "      <td>2369</td>\n",
       "      <td>4615</td>\n",
       "      <td>1900</td>\n",
       "      <td>2</td>\n",
       "      <td>C2</td>\n",
       "      <td>8000000</td>\n",
       "      <td>2016-11-17 00:00:00</td>\n",
       "    </tr>\n",
       "  </tbody>\n",
       "</table>\n",
       "<p>5 rows × 22 columns</p>\n",
       "</div>"
      ],
      "text/plain": [
       "   Unnamed: 0  BOROUGH   NEIGHBORHOOD  \\\n",
       "0           4        1  ALPHABET CITY   \n",
       "1           5        1  ALPHABET CITY   \n",
       "2           6        1  ALPHABET CITY   \n",
       "3           7        1  ALPHABET CITY   \n",
       "4           8        1  ALPHABET CITY   \n",
       "\n",
       "                       BUILDING CLASS CATEGORY TAX CLASS AT PRESENT  BLOCK  \\\n",
       "0  07 RENTALS - WALKUP APARTMENTS                                2A    392   \n",
       "1  07 RENTALS - WALKUP APARTMENTS                                 2    399   \n",
       "2  07 RENTALS - WALKUP APARTMENTS                                 2    399   \n",
       "3  07 RENTALS - WALKUP APARTMENTS                                2B    402   \n",
       "4  07 RENTALS - WALKUP APARTMENTS                                2A    404   \n",
       "\n",
       "   LOT EASE-MENT BUILDING CLASS AT PRESENT                 ADDRESS  ...  \\\n",
       "0    6                                  C2            153 AVENUE B  ...   \n",
       "1   26                                  C7   234 EAST 4TH   STREET  ...   \n",
       "2   39                                  C7   197 EAST 3RD   STREET  ...   \n",
       "3   21                                  C4     154 EAST 7TH STREET  ...   \n",
       "4   55                                  C2  301 EAST 10TH   STREET  ...   \n",
       "\n",
       "  RESIDENTIAL UNITS  COMMERCIAL UNITS  TOTAL UNITS  LAND SQUARE FEET  \\\n",
       "0                 5                 0            5              1633   \n",
       "1                28                 3           31              4616   \n",
       "2                16                 1           17              2212   \n",
       "3                10                 0           10              2272   \n",
       "4                 6                 0            6              2369   \n",
       "\n",
       "   GROSS SQUARE FEET YEAR BUILT TAX CLASS AT TIME OF SALE  \\\n",
       "0               6440       1900                         2   \n",
       "1              18690       1900                         2   \n",
       "2               7803       1900                         2   \n",
       "3               6794       1913                         2   \n",
       "4               4615       1900                         2   \n",
       "\n",
       "   BUILDING CLASS AT TIME OF SALE  SALE PRICE            SALE DATE  \n",
       "0                              C2     6625000  2017-07-19 00:00:00  \n",
       "1                              C7         -    2016-12-14 00:00:00  \n",
       "2                              C7         -    2016-12-09 00:00:00  \n",
       "3                              C4     3936272  2016-09-23 00:00:00  \n",
       "4                              C2     8000000  2016-11-17 00:00:00  \n",
       "\n",
       "[5 rows x 22 columns]"
      ]
     },
     "execution_count": 1495,
     "metadata": {},
     "output_type": "execute_result"
    }
   ],
   "source": [
    "df = pd.read_csv('nyc-rolling-sales.csv')\n",
    "df.head()"
   ]
  },
  {
   "cell_type": "markdown",
   "id": "ee4d29b2",
   "metadata": {},
   "source": [
    "We have both categorical and numerical variables"
   ]
  },
  {
   "cell_type": "markdown",
   "id": "ad26f226",
   "metadata": {},
   "source": [
    "replace column name space with another character"
   ]
  },
  {
   "cell_type": "code",
   "execution_count": 1496,
   "id": "7dac0eb6",
   "metadata": {},
   "outputs": [],
   "source": [
    "df.columns = df.columns.str.replace(' ', '_')"
   ]
  },
  {
   "cell_type": "markdown",
   "id": "f6fbfe89",
   "metadata": {},
   "source": [
    "Drop unwanted columns"
   ]
  },
  {
   "cell_type": "code",
   "execution_count": 1497,
   "id": "d0dde4f2",
   "metadata": {
    "scrolled": true
   },
   "outputs": [],
   "source": [
    "#X = df[df['BUILDING_CLASS_AT_TIME_OF_SALE'].isin(['A2'])]\n",
    "#print(X)"
   ]
  },
  {
   "cell_type": "code",
   "execution_count": 1498,
   "id": "791f077f",
   "metadata": {},
   "outputs": [],
   "source": [
    "df = df.drop(['Unnamed:_0','EASE-MENT','BLOCK','LOT','ADDRESS','APARTMENT_NUMBER','ZIP_CODE','BUILDING_CLASS_AT_PRESENT','TAX_CLASS_AT_PRESENT','BUILDING_CLASS_CATEGORY'], axis =1)\n",
    "              "
   ]
  },
  {
   "cell_type": "markdown",
   "id": "935e42c1",
   "metadata": {},
   "source": [
    "> Change Request: \n",
    ">1. Look for Unique Values of BUILDING_CLASS_AT_TIME_OF_SALE Columns\n",
    "2. Assign Unknown or other to empty rows - No empty values\n",
    "3. BUILDING_CLASS_AT_TIME_OF_SALE - Reduce the model performance\n",
    "4. Created a new category - Deleted digits from building class and tried the model but the model performance went down\n"
   ]
  },
  {
   "cell_type": "code",
   "execution_count": 1499,
   "id": "83b49c55",
   "metadata": {},
   "outputs": [
    {
     "name": "stdout",
     "output_type": "stream",
     "text": [
      "<class 'pandas.core.frame.DataFrame'>\n",
      "RangeIndex: 84548 entries, 0 to 84547\n",
      "Data columns (total 12 columns):\n",
      " #   Column                          Non-Null Count  Dtype \n",
      "---  ------                          --------------  ----- \n",
      " 0   BOROUGH                         84548 non-null  int64 \n",
      " 1   NEIGHBORHOOD                    84548 non-null  object\n",
      " 2   RESIDENTIAL_UNITS               84548 non-null  int64 \n",
      " 3   COMMERCIAL_UNITS                84548 non-null  int64 \n",
      " 4   TOTAL_UNITS                     84548 non-null  int64 \n",
      " 5   LAND_SQUARE_FEET                84548 non-null  object\n",
      " 6   GROSS_SQUARE_FEET               84548 non-null  object\n",
      " 7   YEAR_BUILT                      84548 non-null  int64 \n",
      " 8   TAX_CLASS_AT_TIME_OF_SALE       84548 non-null  int64 \n",
      " 9   BUILDING_CLASS_AT_TIME_OF_SALE  84548 non-null  object\n",
      " 10  SALE_PRICE                      84548 non-null  object\n",
      " 11  SALE_DATE                       84548 non-null  object\n",
      "dtypes: int64(6), object(6)\n",
      "memory usage: 7.7+ MB\n"
     ]
    }
   ],
   "source": [
    "df.info()"
   ]
  },
  {
   "cell_type": "code",
   "execution_count": 1500,
   "id": "9e0c5808",
   "metadata": {
    "scrolled": true
   },
   "outputs": [
    {
     "name": "stdout",
     "output_type": "stream",
     "text": [
      "No. of unique values: 4\n",
      "[1 2 3 4]\n",
      "No. of unique values: 166\n",
      "['A0' 'A1' 'A2' 'A3' 'A4' 'A5' 'A6' 'A7' 'A9' 'B1' 'B2' 'B3' 'B9' 'C0'\n",
      " 'C1' 'C2' 'C3' 'C4' 'C5' 'C6' 'C7' 'C8' 'C9' 'CM' 'D0' 'D1' 'D2' 'D3'\n",
      " 'D4' 'D5' 'D6' 'D7' 'D8' 'D9' 'E1' 'E2' 'E7' 'E9' 'F1' 'F2' 'F4' 'F5'\n",
      " 'F9' 'G0' 'G1' 'G2' 'G3' 'G4' 'G5' 'G6' 'G7' 'G8' 'G9' 'GU' 'GW' 'H1'\n",
      " 'H2' 'H3' 'H4' 'H6' 'H8' 'H9' 'HB' 'HH' 'HR' 'HS' 'I1' 'I3' 'I4' 'I5'\n",
      " 'I6' 'I7' 'I9' 'J1' 'J4' 'J5' 'J8' 'J9' 'K1' 'K2' 'K3' 'K4' 'K5' 'K6'\n",
      " 'K7' 'K8' 'K9' 'L1' 'L3' 'L8' 'L9' 'M1' 'M2' 'M3' 'M4' 'M9' 'N2' 'N9'\n",
      " 'O1' 'O2' 'O3' 'O4' 'O5' 'O6' 'O7' 'O8' 'O9' 'P2' 'P5' 'P6' 'P7' 'P8'\n",
      " 'P9' 'Q1' 'Q8' 'Q9' 'R0' 'R1' 'R2' 'R3' 'R4' 'R5' 'R6' 'R7' 'R8' 'R9'\n",
      " 'RA' 'RB' 'RG' 'RH' 'RK' 'RP' 'RR' 'RS' 'RT' 'RW' 'S0' 'S1' 'S2' 'S3'\n",
      " 'S4' 'S5' 'S9' 'T2' 'U1' 'U6' 'V0' 'V1' 'V2' 'V3' 'V6' 'V9' 'W1' 'W2'\n",
      " 'W3' 'W4' 'W6' 'W8' 'W9' 'Y1' 'Y3' 'Z0' 'Z2' 'Z3' 'Z7' 'Z9']\n"
     ]
    }
   ],
   "source": [
    "tax_uniq_cat = df['TAX_CLASS_AT_TIME_OF_SALE'].unique()\n",
    "print('No. of unique values: ' +str(df['TAX_CLASS_AT_TIME_OF_SALE'].unique().size))\n",
    "print(np.sort(tax_uniq_cat))\n",
    "\n",
    "building_class_uniq_cat = df['BUILDING_CLASS_AT_TIME_OF_SALE'].unique()\n",
    "print('No. of unique values: ' +str(df['BUILDING_CLASS_AT_TIME_OF_SALE'].unique().size))\n",
    "print(np.sort(building_class_uniq_cat))\n"
   ]
  },
  {
   "cell_type": "code",
   "execution_count": 1501,
   "id": "c3baef3b",
   "metadata": {},
   "outputs": [
    {
     "name": "stdout",
     "output_type": "stream",
     "text": [
      "Empty DataFrame\n",
      "Columns: [BOROUGH, NEIGHBORHOOD, RESIDENTIAL_UNITS, COMMERCIAL_UNITS, TOTAL_UNITS, LAND_SQUARE_FEET, GROSS_SQUARE_FEET, YEAR_BUILT, TAX_CLASS_AT_TIME_OF_SALE, BUILDING_CLASS_AT_TIME_OF_SALE, SALE_PRICE, SALE_DATE]\n",
      "Index: []\n",
      "Empty DataFrame\n",
      "Columns: [BOROUGH, NEIGHBORHOOD, RESIDENTIAL_UNITS, COMMERCIAL_UNITS, TOTAL_UNITS, LAND_SQUARE_FEET, GROSS_SQUARE_FEET, YEAR_BUILT, TAX_CLASS_AT_TIME_OF_SALE, BUILDING_CLASS_AT_TIME_OF_SALE, SALE_PRICE, SALE_DATE]\n",
      "Index: []\n"
     ]
    }
   ],
   "source": [
    "df_null_tax = df[df['TAX_CLASS_AT_TIME_OF_SALE'].isin([np.nan,np.inf,-np.inf,''])]\n",
    "print(df_null_tax)\n",
    "\n",
    "df_null_building = df[df['BUILDING_CLASS_AT_TIME_OF_SALE'].isin([np.nan,np.inf,-np.inf,''])]\n",
    "print(df_null_building)"
   ]
  },
  {
   "cell_type": "code",
   "execution_count": 1502,
   "id": "0b0d4973",
   "metadata": {},
   "outputs": [
    {
     "data": {
      "text/html": [
       "<div>\n",
       "<style scoped>\n",
       "    .dataframe tbody tr th:only-of-type {\n",
       "        vertical-align: middle;\n",
       "    }\n",
       "\n",
       "    .dataframe tbody tr th {\n",
       "        vertical-align: top;\n",
       "    }\n",
       "\n",
       "    .dataframe thead th {\n",
       "        text-align: right;\n",
       "    }\n",
       "</style>\n",
       "<table border=\"1\" class=\"dataframe\">\n",
       "  <thead>\n",
       "    <tr style=\"text-align: right;\">\n",
       "      <th></th>\n",
       "      <th>BOROUGH</th>\n",
       "      <th>NEIGHBORHOOD</th>\n",
       "      <th>RESIDENTIAL_UNITS</th>\n",
       "      <th>COMMERCIAL_UNITS</th>\n",
       "      <th>TOTAL_UNITS</th>\n",
       "      <th>LAND_SQUARE_FEET</th>\n",
       "      <th>GROSS_SQUARE_FEET</th>\n",
       "      <th>YEAR_BUILT</th>\n",
       "      <th>TAX_CLASS_AT_TIME_OF_SALE</th>\n",
       "      <th>BUILDING_CLASS_AT_TIME_OF_SALE</th>\n",
       "      <th>SALE_PRICE</th>\n",
       "      <th>SALE_DATE</th>\n",
       "      <th>CAT_BUILDING_CLASS</th>\n",
       "    </tr>\n",
       "  </thead>\n",
       "  <tbody>\n",
       "    <tr>\n",
       "      <th>0</th>\n",
       "      <td>1</td>\n",
       "      <td>ALPHABET CITY</td>\n",
       "      <td>5</td>\n",
       "      <td>0</td>\n",
       "      <td>5</td>\n",
       "      <td>1633</td>\n",
       "      <td>6440</td>\n",
       "      <td>1900</td>\n",
       "      <td>2</td>\n",
       "      <td>C2</td>\n",
       "      <td>6625000</td>\n",
       "      <td>2017-07-19 00:00:00</td>\n",
       "      <td>C</td>\n",
       "    </tr>\n",
       "    <tr>\n",
       "      <th>1</th>\n",
       "      <td>1</td>\n",
       "      <td>ALPHABET CITY</td>\n",
       "      <td>28</td>\n",
       "      <td>3</td>\n",
       "      <td>31</td>\n",
       "      <td>4616</td>\n",
       "      <td>18690</td>\n",
       "      <td>1900</td>\n",
       "      <td>2</td>\n",
       "      <td>C7</td>\n",
       "      <td>-</td>\n",
       "      <td>2016-12-14 00:00:00</td>\n",
       "      <td>C</td>\n",
       "    </tr>\n",
       "    <tr>\n",
       "      <th>2</th>\n",
       "      <td>1</td>\n",
       "      <td>ALPHABET CITY</td>\n",
       "      <td>16</td>\n",
       "      <td>1</td>\n",
       "      <td>17</td>\n",
       "      <td>2212</td>\n",
       "      <td>7803</td>\n",
       "      <td>1900</td>\n",
       "      <td>2</td>\n",
       "      <td>C7</td>\n",
       "      <td>-</td>\n",
       "      <td>2016-12-09 00:00:00</td>\n",
       "      <td>C</td>\n",
       "    </tr>\n",
       "    <tr>\n",
       "      <th>3</th>\n",
       "      <td>1</td>\n",
       "      <td>ALPHABET CITY</td>\n",
       "      <td>10</td>\n",
       "      <td>0</td>\n",
       "      <td>10</td>\n",
       "      <td>2272</td>\n",
       "      <td>6794</td>\n",
       "      <td>1913</td>\n",
       "      <td>2</td>\n",
       "      <td>C4</td>\n",
       "      <td>3936272</td>\n",
       "      <td>2016-09-23 00:00:00</td>\n",
       "      <td>C</td>\n",
       "    </tr>\n",
       "    <tr>\n",
       "      <th>4</th>\n",
       "      <td>1</td>\n",
       "      <td>ALPHABET CITY</td>\n",
       "      <td>6</td>\n",
       "      <td>0</td>\n",
       "      <td>6</td>\n",
       "      <td>2369</td>\n",
       "      <td>4615</td>\n",
       "      <td>1900</td>\n",
       "      <td>2</td>\n",
       "      <td>C2</td>\n",
       "      <td>8000000</td>\n",
       "      <td>2016-11-17 00:00:00</td>\n",
       "      <td>C</td>\n",
       "    </tr>\n",
       "  </tbody>\n",
       "</table>\n",
       "</div>"
      ],
      "text/plain": [
       "   BOROUGH   NEIGHBORHOOD  RESIDENTIAL_UNITS  COMMERCIAL_UNITS  TOTAL_UNITS  \\\n",
       "0        1  ALPHABET CITY                  5                 0            5   \n",
       "1        1  ALPHABET CITY                 28                 3           31   \n",
       "2        1  ALPHABET CITY                 16                 1           17   \n",
       "3        1  ALPHABET CITY                 10                 0           10   \n",
       "4        1  ALPHABET CITY                  6                 0            6   \n",
       "\n",
       "  LAND_SQUARE_FEET GROSS_SQUARE_FEET  YEAR_BUILT  TAX_CLASS_AT_TIME_OF_SALE  \\\n",
       "0             1633              6440        1900                          2   \n",
       "1             4616             18690        1900                          2   \n",
       "2             2212              7803        1900                          2   \n",
       "3             2272              6794        1913                          2   \n",
       "4             2369              4615        1900                          2   \n",
       "\n",
       "  BUILDING_CLASS_AT_TIME_OF_SALE SALE_PRICE            SALE_DATE  \\\n",
       "0                             C2    6625000  2017-07-19 00:00:00   \n",
       "1                             C7        -    2016-12-14 00:00:00   \n",
       "2                             C7        -    2016-12-09 00:00:00   \n",
       "3                             C4    3936272  2016-09-23 00:00:00   \n",
       "4                             C2    8000000  2016-11-17 00:00:00   \n",
       "\n",
       "  CAT_BUILDING_CLASS  \n",
       "0                  C  \n",
       "1                  C  \n",
       "2                  C  \n",
       "3                  C  \n",
       "4                  C  "
      ]
     },
     "execution_count": 1502,
     "metadata": {},
     "output_type": "execute_result"
    }
   ],
   "source": [
    "df['CAT_BUILDING_CLASS'] = df['BUILDING_CLASS_AT_TIME_OF_SALE']\n",
    "for i in range (0,10):\n",
    "    df['CAT_BUILDING_CLASS']= df['CAT_BUILDING_CLASS'].str.replace(str(i),'')\n",
    "df.head()"
   ]
  },
  {
   "cell_type": "markdown",
   "id": "5f2e9c00",
   "metadata": {},
   "source": [
    "here is the list of variables"
   ]
  },
  {
   "cell_type": "code",
   "execution_count": 1503,
   "id": "975b1c84",
   "metadata": {},
   "outputs": [
    {
     "data": {
      "text/plain": [
       "Index(['BOROUGH', 'NEIGHBORHOOD', 'RESIDENTIAL_UNITS', 'COMMERCIAL_UNITS',\n",
       "       'TOTAL_UNITS', 'LAND_SQUARE_FEET', 'GROSS_SQUARE_FEET', 'YEAR_BUILT',\n",
       "       'TAX_CLASS_AT_TIME_OF_SALE', 'BUILDING_CLASS_AT_TIME_OF_SALE',\n",
       "       'SALE_PRICE', 'SALE_DATE', 'CAT_BUILDING_CLASS'],\n",
       "      dtype='object')"
      ]
     },
     "execution_count": 1503,
     "metadata": {},
     "output_type": "execute_result"
    }
   ],
   "source": [
    "df.columns"
   ]
  },
  {
   "cell_type": "code",
   "execution_count": 1504,
   "id": "3c66c1c8",
   "metadata": {},
   "outputs": [
    {
     "name": "stdout",
     "output_type": "stream",
     "text": [
      "<class 'pandas.core.frame.DataFrame'>\n",
      "RangeIndex: 84548 entries, 0 to 84547\n",
      "Data columns (total 13 columns):\n",
      " #   Column                          Non-Null Count  Dtype \n",
      "---  ------                          --------------  ----- \n",
      " 0   BOROUGH                         84548 non-null  int64 \n",
      " 1   NEIGHBORHOOD                    84548 non-null  object\n",
      " 2   RESIDENTIAL_UNITS               84548 non-null  int64 \n",
      " 3   COMMERCIAL_UNITS                84548 non-null  int64 \n",
      " 4   TOTAL_UNITS                     84548 non-null  int64 \n",
      " 5   LAND_SQUARE_FEET                84548 non-null  object\n",
      " 6   GROSS_SQUARE_FEET               84548 non-null  object\n",
      " 7   YEAR_BUILT                      84548 non-null  int64 \n",
      " 8   TAX_CLASS_AT_TIME_OF_SALE       84548 non-null  int64 \n",
      " 9   BUILDING_CLASS_AT_TIME_OF_SALE  84548 non-null  object\n",
      " 10  SALE_PRICE                      84548 non-null  object\n",
      " 11  SALE_DATE                       84548 non-null  object\n",
      " 12  CAT_BUILDING_CLASS              84548 non-null  object\n",
      "dtypes: int64(6), object(7)\n",
      "memory usage: 8.4+ MB\n"
     ]
    }
   ],
   "source": [
    "df.info()"
   ]
  },
  {
   "cell_type": "markdown",
   "id": "640fc080",
   "metadata": {},
   "source": [
    "LAND_SQUARE_FEET, GROSS_SQUARE_FEET and SALE_PRICE has object type but they are actually numerical variables"
   ]
  },
  {
   "cell_type": "markdown",
   "id": "e4d58a89",
   "metadata": {},
   "source": [
    "Investigate for non numeric values"
   ]
  },
  {
   "cell_type": "code",
   "execution_count": 1505,
   "id": "2a35b467",
   "metadata": {},
   "outputs": [],
   "source": [
    "X = df['LAND_SQUARE_FEET'].str.isnumeric()\n",
    "Y = df['GROSS_SQUARE_FEET'].str.isnumeric()\n",
    "Z = df['SALE_PRICE'].str.isnumeric()"
   ]
  },
  {
   "cell_type": "code",
   "execution_count": 1506,
   "id": "48cdb878",
   "metadata": {},
   "outputs": [
    {
     "name": "stdout",
     "output_type": "stream",
     "text": [
      "1\n",
      "1\n",
      "1\n"
     ]
    }
   ],
   "source": [
    "print(df[~X]['LAND_SQUARE_FEET'].nunique())\n",
    "print(df[~Y]['GROSS_SQUARE_FEET'].nunique())\n",
    "print(df[~Z]['SALE_PRICE'].nunique())"
   ]
  },
  {
   "cell_type": "code",
   "execution_count": 1507,
   "id": "d32196c4",
   "metadata": {
    "scrolled": true
   },
   "outputs": [
    {
     "name": "stdout",
     "output_type": "stream",
     "text": [
      "[' -  ']\n",
      "[' -  ']\n",
      "[' -  ']\n"
     ]
    }
   ],
   "source": [
    "print(np.unique(df[~X].iloc[:,5]))\n",
    "print(np.unique(df[~Y].iloc[:,6]))\n",
    "print(np.unique(df[~Z].iloc[:,10]))"
   ]
  },
  {
   "cell_type": "markdown",
   "id": "693126b5",
   "metadata": {},
   "source": [
    "Because of '-' they are object type variables. Turn these variables to numerical type"
   ]
  },
  {
   "cell_type": "code",
   "execution_count": 1508,
   "id": "f2f299fd",
   "metadata": {},
   "outputs": [],
   "source": [
    "numeric = ['LAND_SQUARE_FEET','GROSS_SQUARE_FEET','SALE_PRICE']\n",
    "\n",
    "df[numeric] = df[numeric].apply(pd.to_numeric, errors = 'coerce')"
   ]
  },
  {
   "cell_type": "markdown",
   "id": "662dd7f8",
   "metadata": {},
   "source": [
    "Split Sale Date to create year column"
   ]
  },
  {
   "cell_type": "code",
   "execution_count": 1509,
   "id": "af8375a4",
   "metadata": {},
   "outputs": [],
   "source": [
    "df['SALE_DATE'] = pd.to_datetime(df['SALE_DATE'], errors='coerce')"
   ]
  },
  {
   "cell_type": "code",
   "execution_count": 1510,
   "id": "75dd3654",
   "metadata": {},
   "outputs": [],
   "source": [
    "df['SALE_YEAR'] = pd.DatetimeIndex(df['SALE_DATE']).year"
   ]
  },
  {
   "cell_type": "code",
   "execution_count": 1511,
   "id": "c6042c88",
   "metadata": {},
   "outputs": [],
   "source": [
    "df = df.drop('SALE_DATE', axis =1)"
   ]
  },
  {
   "cell_type": "markdown",
   "id": "2b02f06d",
   "metadata": {},
   "source": [
    "Drop all rows with missing sales prices"
   ]
  },
  {
   "cell_type": "code",
   "execution_count": 1512,
   "id": "55758545",
   "metadata": {},
   "outputs": [],
   "source": [
    "df = df.dropna(subset=['SALE_PRICE'])"
   ]
  },
  {
   "cell_type": "code",
   "execution_count": 1513,
   "id": "2b10cc97",
   "metadata": {},
   "outputs": [],
   "source": [
    "df_null = df[df['SALE_PRICE'].isin([np.nan,np.inf,-np.inf])]"
   ]
  },
  {
   "cell_type": "code",
   "execution_count": 1514,
   "id": "62289fa0",
   "metadata": {},
   "outputs": [
    {
     "data": {
      "text/html": [
       "<div>\n",
       "<style scoped>\n",
       "    .dataframe tbody tr th:only-of-type {\n",
       "        vertical-align: middle;\n",
       "    }\n",
       "\n",
       "    .dataframe tbody tr th {\n",
       "        vertical-align: top;\n",
       "    }\n",
       "\n",
       "    .dataframe thead th {\n",
       "        text-align: right;\n",
       "    }\n",
       "</style>\n",
       "<table border=\"1\" class=\"dataframe\">\n",
       "  <thead>\n",
       "    <tr style=\"text-align: right;\">\n",
       "      <th></th>\n",
       "      <th>BOROUGH</th>\n",
       "      <th>NEIGHBORHOOD</th>\n",
       "      <th>RESIDENTIAL_UNITS</th>\n",
       "      <th>COMMERCIAL_UNITS</th>\n",
       "      <th>TOTAL_UNITS</th>\n",
       "      <th>LAND_SQUARE_FEET</th>\n",
       "      <th>GROSS_SQUARE_FEET</th>\n",
       "      <th>YEAR_BUILT</th>\n",
       "      <th>TAX_CLASS_AT_TIME_OF_SALE</th>\n",
       "      <th>BUILDING_CLASS_AT_TIME_OF_SALE</th>\n",
       "      <th>SALE_PRICE</th>\n",
       "      <th>CAT_BUILDING_CLASS</th>\n",
       "      <th>SALE_YEAR</th>\n",
       "    </tr>\n",
       "  </thead>\n",
       "  <tbody>\n",
       "  </tbody>\n",
       "</table>\n",
       "</div>"
      ],
      "text/plain": [
       "Empty DataFrame\n",
       "Columns: [BOROUGH, NEIGHBORHOOD, RESIDENTIAL_UNITS, COMMERCIAL_UNITS, TOTAL_UNITS, LAND_SQUARE_FEET, GROSS_SQUARE_FEET, YEAR_BUILT, TAX_CLASS_AT_TIME_OF_SALE, BUILDING_CLASS_AT_TIME_OF_SALE, SALE_PRICE, CAT_BUILDING_CLASS, SALE_YEAR]\n",
       "Index: []"
      ]
     },
     "execution_count": 1514,
     "metadata": {},
     "output_type": "execute_result"
    }
   ],
   "source": [
    "df_null"
   ]
  },
  {
   "cell_type": "code",
   "execution_count": 1515,
   "id": "322de4cf",
   "metadata": {
    "scrolled": true
   },
   "outputs": [
    {
     "data": {
      "text/plain": [
       "0"
      ]
     },
     "execution_count": 1515,
     "metadata": {},
     "output_type": "execute_result"
    }
   ],
   "source": [
    "df['SALE_PRICE'].isnull().sum()"
   ]
  },
  {
   "cell_type": "markdown",
   "id": "3fc75f4c",
   "metadata": {},
   "source": [
    "Analyze data"
   ]
  },
  {
   "cell_type": "code",
   "execution_count": 1516,
   "id": "f281a1fc",
   "metadata": {},
   "outputs": [],
   "source": [
    "import seaborn as sns\n",
    "import matplotlib.pyplot as plt"
   ]
  },
  {
   "cell_type": "code",
   "execution_count": 1517,
   "id": "216edba7",
   "metadata": {},
   "outputs": [
    {
     "data": {
      "text/html": [
       "<div>\n",
       "<style scoped>\n",
       "    .dataframe tbody tr th:only-of-type {\n",
       "        vertical-align: middle;\n",
       "    }\n",
       "\n",
       "    .dataframe tbody tr th {\n",
       "        vertical-align: top;\n",
       "    }\n",
       "\n",
       "    .dataframe thead th {\n",
       "        text-align: right;\n",
       "    }\n",
       "</style>\n",
       "<table border=\"1\" class=\"dataframe\">\n",
       "  <thead>\n",
       "    <tr style=\"text-align: right;\">\n",
       "      <th></th>\n",
       "      <th>BOROUGH</th>\n",
       "      <th>RESIDENTIAL_UNITS</th>\n",
       "      <th>COMMERCIAL_UNITS</th>\n",
       "      <th>TOTAL_UNITS</th>\n",
       "      <th>LAND_SQUARE_FEET</th>\n",
       "      <th>GROSS_SQUARE_FEET</th>\n",
       "      <th>YEAR_BUILT</th>\n",
       "      <th>TAX_CLASS_AT_TIME_OF_SALE</th>\n",
       "      <th>SALE_PRICE</th>\n",
       "      <th>SALE_YEAR</th>\n",
       "    </tr>\n",
       "  </thead>\n",
       "  <tbody>\n",
       "    <tr>\n",
       "      <th>count</th>\n",
       "      <td>69987.000000</td>\n",
       "      <td>69987.000000</td>\n",
       "      <td>69987.000000</td>\n",
       "      <td>69987.000000</td>\n",
       "      <td>4.879900e+04</td>\n",
       "      <td>4.824800e+04</td>\n",
       "      <td>69987.000000</td>\n",
       "      <td>69987.000000</td>\n",
       "      <td>6.998700e+04</td>\n",
       "      <td>69987.000000</td>\n",
       "    </tr>\n",
       "    <tr>\n",
       "      <th>mean</th>\n",
       "      <td>2.921928</td>\n",
       "      <td>1.899553</td>\n",
       "      <td>0.172489</td>\n",
       "      <td>2.092203</td>\n",
       "      <td>3.629395e+03</td>\n",
       "      <td>3.672552e+03</td>\n",
       "      <td>1799.348236</td>\n",
       "      <td>1.641976</td>\n",
       "      <td>1.276456e+06</td>\n",
       "      <td>2016.655065</td>\n",
       "    </tr>\n",
       "    <tr>\n",
       "      <th>std</th>\n",
       "      <td>1.235688</td>\n",
       "      <td>14.549545</td>\n",
       "      <td>9.123717</td>\n",
       "      <td>17.276100</td>\n",
       "      <td>4.035784e+04</td>\n",
       "      <td>2.947540e+04</td>\n",
       "      <td>520.884552</td>\n",
       "      <td>0.771162</td>\n",
       "      <td>1.140526e+07</td>\n",
       "      <td>0.475351</td>\n",
       "    </tr>\n",
       "    <tr>\n",
       "      <th>min</th>\n",
       "      <td>1.000000</td>\n",
       "      <td>0.000000</td>\n",
       "      <td>0.000000</td>\n",
       "      <td>0.000000</td>\n",
       "      <td>0.000000e+00</td>\n",
       "      <td>0.000000e+00</td>\n",
       "      <td>0.000000</td>\n",
       "      <td>1.000000</td>\n",
       "      <td>0.000000e+00</td>\n",
       "      <td>2016.000000</td>\n",
       "    </tr>\n",
       "    <tr>\n",
       "      <th>25%</th>\n",
       "      <td>2.000000</td>\n",
       "      <td>0.000000</td>\n",
       "      <td>0.000000</td>\n",
       "      <td>0.000000</td>\n",
       "      <td>1.438000e+03</td>\n",
       "      <td>8.280000e+02</td>\n",
       "      <td>1920.000000</td>\n",
       "      <td>1.000000</td>\n",
       "      <td>2.250000e+05</td>\n",
       "      <td>2016.000000</td>\n",
       "    </tr>\n",
       "    <tr>\n",
       "      <th>50%</th>\n",
       "      <td>3.000000</td>\n",
       "      <td>1.000000</td>\n",
       "      <td>0.000000</td>\n",
       "      <td>1.000000</td>\n",
       "      <td>2.150000e+03</td>\n",
       "      <td>1.620000e+03</td>\n",
       "      <td>1937.000000</td>\n",
       "      <td>2.000000</td>\n",
       "      <td>5.300000e+05</td>\n",
       "      <td>2017.000000</td>\n",
       "    </tr>\n",
       "    <tr>\n",
       "      <th>75%</th>\n",
       "      <td>4.000000</td>\n",
       "      <td>2.000000</td>\n",
       "      <td>0.000000</td>\n",
       "      <td>2.000000</td>\n",
       "      <td>3.100000e+03</td>\n",
       "      <td>2.520000e+03</td>\n",
       "      <td>1965.000000</td>\n",
       "      <td>2.000000</td>\n",
       "      <td>9.500000e+05</td>\n",
       "      <td>2017.000000</td>\n",
       "    </tr>\n",
       "    <tr>\n",
       "      <th>max</th>\n",
       "      <td>5.000000</td>\n",
       "      <td>1844.000000</td>\n",
       "      <td>2261.000000</td>\n",
       "      <td>2261.000000</td>\n",
       "      <td>4.252327e+06</td>\n",
       "      <td>3.750565e+06</td>\n",
       "      <td>2017.000000</td>\n",
       "      <td>4.000000</td>\n",
       "      <td>2.210000e+09</td>\n",
       "      <td>2017.000000</td>\n",
       "    </tr>\n",
       "  </tbody>\n",
       "</table>\n",
       "</div>"
      ],
      "text/plain": [
       "            BOROUGH  RESIDENTIAL_UNITS  COMMERCIAL_UNITS   TOTAL_UNITS  \\\n",
       "count  69987.000000       69987.000000      69987.000000  69987.000000   \n",
       "mean       2.921928           1.899553          0.172489      2.092203   \n",
       "std        1.235688          14.549545          9.123717     17.276100   \n",
       "min        1.000000           0.000000          0.000000      0.000000   \n",
       "25%        2.000000           0.000000          0.000000      0.000000   \n",
       "50%        3.000000           1.000000          0.000000      1.000000   \n",
       "75%        4.000000           2.000000          0.000000      2.000000   \n",
       "max        5.000000        1844.000000       2261.000000   2261.000000   \n",
       "\n",
       "       LAND_SQUARE_FEET  GROSS_SQUARE_FEET    YEAR_BUILT  \\\n",
       "count      4.879900e+04       4.824800e+04  69987.000000   \n",
       "mean       3.629395e+03       3.672552e+03   1799.348236   \n",
       "std        4.035784e+04       2.947540e+04    520.884552   \n",
       "min        0.000000e+00       0.000000e+00      0.000000   \n",
       "25%        1.438000e+03       8.280000e+02   1920.000000   \n",
       "50%        2.150000e+03       1.620000e+03   1937.000000   \n",
       "75%        3.100000e+03       2.520000e+03   1965.000000   \n",
       "max        4.252327e+06       3.750565e+06   2017.000000   \n",
       "\n",
       "       TAX_CLASS_AT_TIME_OF_SALE    SALE_PRICE     SALE_YEAR  \n",
       "count               69987.000000  6.998700e+04  69987.000000  \n",
       "mean                    1.641976  1.276456e+06   2016.655065  \n",
       "std                     0.771162  1.140526e+07      0.475351  \n",
       "min                     1.000000  0.000000e+00   2016.000000  \n",
       "25%                     1.000000  2.250000e+05   2016.000000  \n",
       "50%                     2.000000  5.300000e+05   2017.000000  \n",
       "75%                     2.000000  9.500000e+05   2017.000000  \n",
       "max                     4.000000  2.210000e+09   2017.000000  "
      ]
     },
     "execution_count": 1517,
     "metadata": {},
     "output_type": "execute_result"
    }
   ],
   "source": [
    "df.describe()"
   ]
  },
  {
   "cell_type": "markdown",
   "id": "142743ea",
   "metadata": {},
   "source": [
    ">Change Request: Divide and Group Numerical Values and Create Categorical Features\n",
    ">1. Analyzed relationship between Commercial Unit and Sale Price using Box plot and Scatter Plot \n",
    "2. Divided number of Commercial Units to 5 Categories. Grouped by similar IQR and Median values. \n",
    "3. Created New Categorical Feature (CAT_COMMERCIAL_UNITS) \n",
    "4. The model accuracy increased\n",
    "5. Tried to catagorize RESIDENTIAL UNITS but model accuracy significantly decreased."
   ]
  },
  {
   "cell_type": "code",
   "execution_count": 1518,
   "id": "face15d5",
   "metadata": {
    "scrolled": false
   },
   "outputs": [
    {
     "data": {
      "image/png": "[encoded data removed]",
      "text/plain": [
       "<Figure size 1400x600 with 1 Axes>"
      ]
     },
     "metadata": {},
     "output_type": "display_data"
    }
   ],
   "source": [
    "data = df.dropna(subset = ['SALE_PRICE','COMMERCIAL_UNITS'])\n",
    "data = data[(data['COMMERCIAL_UNITS']<20)&\n",
    "           (data['SALE_PRICE']<5000000)&\n",
    "           (data['SALE_PRICE']>100000)&\n",
    "           (data['GROSS_SQUARE_FEET']>0)]\n",
    "\n",
    "plt.figure(figsize=(14,6))\n",
    "\n",
    "sns.boxplot(x ='COMMERCIAL_UNITS',y='SALE_PRICE',data =data, whis=10)\n",
    "#sns.boxplot(x ='RESIDENTIAL_UNITS',y='SALE_PRICE',data =data, whis=10)\n",
    "plt.title('Sale Prices by Commercial Units');\n",
    "plt.show()"
   ]
  },
  {
   "cell_type": "code",
   "execution_count": 1519,
   "id": "20074ac3",
   "metadata": {},
   "outputs": [
    {
     "data": {
      "image/png": "[encoded data removed]",
      "text/plain": [
       "<Figure size 640x480 with 1 Axes>"
      ]
     },
     "metadata": {},
     "output_type": "display_data"
    }
   ],
   "source": [
    "data_new = df.dropna(subset = ['SALE_PRICE','COMMERCIAL_UNITS'])\n",
    "plt.plot(data_new['SALE_PRICE'],data_new['COMMERCIAL_UNITS'],'o',markersize = 3,alpha =0.2)\n",
    "plt.xlabel('Sale Price')\n",
    "plt.ylabel('COMMERCIAL_UNITS')\n",
    "plt.show()"
   ]
  },
  {
   "cell_type": "code",
   "execution_count": 1520,
   "id": "fd176488",
   "metadata": {},
   "outputs": [],
   "source": [
    "bins = [-1,0,5,6,7,100]\n",
    "category = ['No units','1-5 Units', '6 Units','7 Units','11+ Units']\n",
    "df['CAT_COMMERCIAL_UNITS'] = pd.cut(df['COMMERCIAL_UNITS'], bins, labels=category)\n",
    "\n",
    "#df_new = df[df['COMMERCIAL_UNITS'] == 8]\n",
    "#df_new.head()"
   ]
  },
  {
   "cell_type": "code",
   "execution_count": 1521,
   "id": "ec96b9fd",
   "metadata": {},
   "outputs": [
    {
     "name": "stdout",
     "output_type": "stream",
     "text": [
      "<class 'pandas.core.frame.DataFrame'>\n",
      "Int64Index: 69987 entries, 0 to 84547\n",
      "Data columns (total 14 columns):\n",
      " #   Column                          Non-Null Count  Dtype   \n",
      "---  ------                          --------------  -----   \n",
      " 0   BOROUGH                         69987 non-null  int64   \n",
      " 1   NEIGHBORHOOD                    69987 non-null  object  \n",
      " 2   RESIDENTIAL_UNITS               69987 non-null  int64   \n",
      " 3   COMMERCIAL_UNITS                69987 non-null  int64   \n",
      " 4   TOTAL_UNITS                     69987 non-null  int64   \n",
      " 5   LAND_SQUARE_FEET                48799 non-null  float64 \n",
      " 6   GROSS_SQUARE_FEET               48248 non-null  float64 \n",
      " 7   YEAR_BUILT                      69987 non-null  int64   \n",
      " 8   TAX_CLASS_AT_TIME_OF_SALE       69987 non-null  int64   \n",
      " 9   BUILDING_CLASS_AT_TIME_OF_SALE  69987 non-null  object  \n",
      " 10  SALE_PRICE                      69987 non-null  float64 \n",
      " 11  CAT_BUILDING_CLASS              69987 non-null  object  \n",
      " 12  SALE_YEAR                       69987 non-null  int64   \n",
      " 13  CAT_COMMERCIAL_UNITS            69977 non-null  category\n",
      "dtypes: category(1), float64(3), int64(7), object(3)\n",
      "memory usage: 7.5+ MB\n"
     ]
    }
   ],
   "source": [
    "df.info()"
   ]
  },
  {
   "cell_type": "code",
   "execution_count": 1522,
   "id": "6f81aa56",
   "metadata": {},
   "outputs": [],
   "source": [
    "#bins = [-1,0,3,6,9,13,16,100]\n",
    "#category = ['No units','1-3 Units', '4-6 Units','7-9 Units','10-13 Units','14-16 Units','16+ Units']\n",
    "#df['CAT_RESIDENTIAL_UNITS'] = pd.cut(df['RESIDENTIAL_UNITS'], bins, labels=category)\n",
    "\n",
    "#df_new = df[df['RESIDENTIAL_UNITS'] == 0]\n",
    "#df_new.head()"
   ]
  },
  {
   "cell_type": "code",
   "execution_count": 1523,
   "id": "45b6532c",
   "metadata": {},
   "outputs": [
    {
     "data": {
      "image/png": "[encoded data removed]",
      "text/plain": [
       "<Figure size 1400x600 with 1 Axes>"
      ]
     },
     "metadata": {},
     "output_type": "display_data"
    }
   ],
   "source": [
    "data = df.dropna(subset = ['SALE_PRICE','RESIDENTIAL_UNITS'])\n",
    "data = data[(data['RESIDENTIAL_UNITS']<20)&\n",
    "           (data['SALE_PRICE']<10000000)&\n",
    "           (data['SALE_PRICE']>100000)&\n",
    "           (data['GROSS_SQUARE_FEET']>0)]\n",
    "\n",
    "plt.figure(figsize=(14,6))\n",
    "\n",
    "sns.boxplot(x ='RESIDENTIAL_UNITS',y='SALE_PRICE',data =data, whis=10)\n",
    "#sns.boxplot(x ='RESIDENTIAL_UNITS',y='SALE_PRICE',data =data, whis=10)\n",
    "plt.title('Sale Prices by RESIDENTIAL Units');\n",
    "plt.show()"
   ]
  },
  {
   "cell_type": "code",
   "execution_count": 1524,
   "id": "2ed1bc5d",
   "metadata": {},
   "outputs": [
    {
     "data": {
      "text/plain": [
       "No units     65924\n",
       "1-5 Units     3874\n",
       "11+ Units      110\n",
       "6 Units         50\n",
       "7 Units         19\n",
       "Name: CAT_COMMERCIAL_UNITS, dtype: int64"
      ]
     },
     "execution_count": 1524,
     "metadata": {},
     "output_type": "execute_result"
    }
   ],
   "source": [
    "df['CAT_COMMERCIAL_UNITS'].value_counts()\n",
    "\n",
    "##df['CAT_RESIDENTIAL_UNITS'].value_counts()"
   ]
  },
  {
   "cell_type": "markdown",
   "id": "abb14367",
   "metadata": {},
   "source": [
    ">END OF CHANGE REQUEST"
   ]
  },
  {
   "cell_type": "markdown",
   "id": "ce754fdc",
   "metadata": {},
   "source": [
    "Eliminate the data with sale price is below 0 and year built is 0"
   ]
  },
  {
   "cell_type": "code",
   "execution_count": 1525,
   "id": "607d39fd",
   "metadata": {},
   "outputs": [],
   "source": [
    "df = df[df['SALE_PRICE']>0]"
   ]
  },
  {
   "cell_type": "markdown",
   "id": "769e0d2e",
   "metadata": {},
   "source": [
    "Change Request: Age of the building is created as new variable.\n",
    ">1. There are 158 unique values\n",
    "2. There is a null value. It is eliminated from the data set\n",
    "3. Investigated extreme YEAR_BUILT value 1111. I tried the model in both ways and model generated better results without this data.\n",
    "4. I droped all year built rows with value 0.\n",
    "5. Calculate Age of the building and add as a new column. There is a 0.1 correlation between sale price and age. This data can be a good feature for the model."
   ]
  },
  {
   "cell_type": "code",
   "execution_count": 1526,
   "id": "230df284",
   "metadata": {},
   "outputs": [
    {
     "name": "stdout",
     "output_type": "stream",
     "text": [
      "No. of Different Values:153\n"
     ]
    },
    {
     "data": {
      "text/plain": [
       "array([1900, 1913, 1920, 2009, 1925, 1902, 1928, 1910, 1930, 1935, 1937,\n",
       "       1915, 1950, 1929, 1901, 1940, 2005,    0, 1989, 2014, 2008, 1965,\n",
       "       2013, 2003, 2006, 2007, 1951, 1899, 1850, 1905, 1864, 1917, 1911,\n",
       "       1983, 1926, 1963, 1960, 1889, 1898, 1939, 1938, 1927, 1909, 1958,\n",
       "       1904, 1907, 1987, 1931, 1984, 1948, 2004, 1875, 2012, 1973, 2011,\n",
       "       1922, 2001, 1932, 1980, 1908, 1953, 1906, 1921, 2010, 1111, 1918,\n",
       "       1990, 1890, 1991, 1895, 1924, 2016, 1957, 1986, 1988, 1998, 1870,\n",
       "       2015, 1969, 1956, 1982, 1914, 1903, 1967, 1912, 1964, 1955, 1961,\n",
       "       1851, 2000, 1959, 1962, 1972, 1976, 1880, 1970, 1846, 1941, 1952,\n",
       "       1923, 1896, 1985, 1966, 1981, 1954, 1946, 1947, 1975, 1974, 1968,\n",
       "       2002, 1994, 1892, 1996, 1945, 1916, 1949, 1999, 1800, 1977, 1942,\n",
       "       1979, 1978, 1971, 1919, 1894, 1881, 1936, 1997, 1995, 1933, 1934,\n",
       "       1992, 1993, 1944, 1883, 1943, 1847, 1844, 1835, 1852, 1856, 1854,\n",
       "       1832, 1845, 1849, 1855, 1893, 1865, 1882, 1871, 1891, 2017])"
      ]
     },
     "execution_count": 1526,
     "metadata": {},
     "output_type": "execute_result"
    }
   ],
   "source": [
    "print('No. of Different Values:' + str(df['YEAR_BUILT'].unique().size))\n",
    "df['YEAR_BUILT'].unique()\n",
    "#df['YEAR_BUILT'].max(),df['YEAR_BUILT'].min()"
   ]
  },
  {
   "cell_type": "code",
   "execution_count": 1527,
   "id": "75c6dd80",
   "metadata": {},
   "outputs": [
    {
     "name": "stdout",
     "output_type": "stream",
     "text": [
      "     BOROUGH NEIGHBORHOOD  RESIDENTIAL_UNITS  COMMERCIAL_UNITS  TOTAL_UNITS  \\\n",
      "957        1      CHELSEA                  0                 0            0   \n",
      "\n",
      "     LAND_SQUARE_FEET  GROSS_SQUARE_FEET  YEAR_BUILT  \\\n",
      "957            2125.0                NaN        1111   \n",
      "\n",
      "     TAX_CLASS_AT_TIME_OF_SALE BUILDING_CLASS_AT_TIME_OF_SALE  SALE_PRICE  \\\n",
      "957                          4                             G6   8208750.0   \n",
      "\n",
      "    CAT_BUILDING_CLASS  SALE_YEAR CAT_COMMERCIAL_UNITS  \n",
      "957                  G       2017             No units  \n"
     ]
    }
   ],
   "source": [
    "print(df[df['YEAR_BUILT'] == 1111])"
   ]
  },
  {
   "cell_type": "code",
   "execution_count": 1528,
   "id": "a4c563cb",
   "metadata": {},
   "outputs": [],
   "source": [
    "df = df[df['YEAR_BUILT'] != 0]\n",
    "df = df[df['YEAR_BUILT'] != 1111]"
   ]
  },
  {
   "cell_type": "code",
   "execution_count": 1529,
   "id": "dbf5c934",
   "metadata": {},
   "outputs": [],
   "source": [
    "df['AGE']  = 2023 - df['YEAR_BUILT']"
   ]
  },
  {
   "cell_type": "code",
   "execution_count": 1530,
   "id": "eb0c5f8c",
   "metadata": {
    "scrolled": true
   },
   "outputs": [],
   "source": [
    "#sns.pairplot(df,vars= ['SALE_PRICE','AGE'], palette = 'husl', hue=\"CAT_COMMERCIAL_UNITS\")"
   ]
  },
  {
   "cell_type": "code",
   "execution_count": 1531,
   "id": "472a8d17",
   "metadata": {},
   "outputs": [
    {
     "data": {
      "text/html": [
       "<div>\n",
       "<style scoped>\n",
       "    .dataframe tbody tr th:only-of-type {\n",
       "        vertical-align: middle;\n",
       "    }\n",
       "\n",
       "    .dataframe tbody tr th {\n",
       "        vertical-align: top;\n",
       "    }\n",
       "\n",
       "    .dataframe thead th {\n",
       "        text-align: right;\n",
       "    }\n",
       "</style>\n",
       "<table border=\"1\" class=\"dataframe\">\n",
       "  <thead>\n",
       "    <tr style=\"text-align: right;\">\n",
       "      <th></th>\n",
       "      <th>BOROUGH</th>\n",
       "      <th>RESIDENTIAL_UNITS</th>\n",
       "      <th>COMMERCIAL_UNITS</th>\n",
       "      <th>TOTAL_UNITS</th>\n",
       "      <th>LAND_SQUARE_FEET</th>\n",
       "      <th>GROSS_SQUARE_FEET</th>\n",
       "      <th>YEAR_BUILT</th>\n",
       "      <th>TAX_CLASS_AT_TIME_OF_SALE</th>\n",
       "      <th>SALE_PRICE</th>\n",
       "      <th>SALE_YEAR</th>\n",
       "      <th>AGE</th>\n",
       "    </tr>\n",
       "  </thead>\n",
       "  <tbody>\n",
       "    <tr>\n",
       "      <th>BOROUGH</th>\n",
       "      <td>1.000000</td>\n",
       "      <td>-0.019738</td>\n",
       "      <td>0.000680</td>\n",
       "      <td>-0.015842</td>\n",
       "      <td>0.023582</td>\n",
       "      <td>-0.086304</td>\n",
       "      <td>0.074782</td>\n",
       "      <td>-0.374458</td>\n",
       "      <td>-0.076983</td>\n",
       "      <td>-0.018976</td>\n",
       "      <td>-0.074782</td>\n",
       "    </tr>\n",
       "    <tr>\n",
       "      <th>RESIDENTIAL_UNITS</th>\n",
       "      <td>-0.019738</td>\n",
       "      <td>1.000000</td>\n",
       "      <td>0.013213</td>\n",
       "      <td>0.823166</td>\n",
       "      <td>0.430154</td>\n",
       "      <td>0.706839</td>\n",
       "      <td>-0.021600</td>\n",
       "      <td>0.005064</td>\n",
       "      <td>0.137850</td>\n",
       "      <td>-0.012076</td>\n",
       "      <td>0.021600</td>\n",
       "    </tr>\n",
       "    <tr>\n",
       "      <th>COMMERCIAL_UNITS</th>\n",
       "      <td>0.000680</td>\n",
       "      <td>0.013213</td>\n",
       "      <td>1.000000</td>\n",
       "      <td>0.578592</td>\n",
       "      <td>0.051836</td>\n",
       "      <td>0.065451</td>\n",
       "      <td>-0.004103</td>\n",
       "      <td>0.048396</td>\n",
       "      <td>0.047275</td>\n",
       "      <td>-0.006935</td>\n",
       "      <td>0.004103</td>\n",
       "    </tr>\n",
       "    <tr>\n",
       "      <th>TOTAL_UNITS</th>\n",
       "      <td>-0.015842</td>\n",
       "      <td>0.823166</td>\n",
       "      <td>0.578592</td>\n",
       "      <td>1.000000</td>\n",
       "      <td>0.380173</td>\n",
       "      <td>0.613405</td>\n",
       "      <td>-0.019263</td>\n",
       "      <td>0.033584</td>\n",
       "      <td>0.139350</td>\n",
       "      <td>-0.013805</td>\n",
       "      <td>0.019263</td>\n",
       "    </tr>\n",
       "    <tr>\n",
       "      <th>LAND_SQUARE_FEET</th>\n",
       "      <td>0.023582</td>\n",
       "      <td>0.430154</td>\n",
       "      <td>0.051836</td>\n",
       "      <td>0.380173</td>\n",
       "      <td>1.000000</td>\n",
       "      <td>0.615670</td>\n",
       "      <td>0.007225</td>\n",
       "      <td>0.070473</td>\n",
       "      <td>0.038963</td>\n",
       "      <td>-0.001680</td>\n",
       "      <td>-0.007225</td>\n",
       "    </tr>\n",
       "    <tr>\n",
       "      <th>GROSS_SQUARE_FEET</th>\n",
       "      <td>-0.086304</td>\n",
       "      <td>0.706839</td>\n",
       "      <td>0.065451</td>\n",
       "      <td>0.613405</td>\n",
       "      <td>0.615670</td>\n",
       "      <td>1.000000</td>\n",
       "      <td>0.009938</td>\n",
       "      <td>0.150445</td>\n",
       "      <td>0.508071</td>\n",
       "      <td>-0.009861</td>\n",
       "      <td>-0.009938</td>\n",
       "    </tr>\n",
       "    <tr>\n",
       "      <th>YEAR_BUILT</th>\n",
       "      <td>0.074782</td>\n",
       "      <td>-0.021600</td>\n",
       "      <td>-0.004103</td>\n",
       "      <td>-0.019263</td>\n",
       "      <td>0.007225</td>\n",
       "      <td>0.009938</td>\n",
       "      <td>1.000000</td>\n",
       "      <td>0.170272</td>\n",
       "      <td>0.002754</td>\n",
       "      <td>0.005720</td>\n",
       "      <td>-1.000000</td>\n",
       "    </tr>\n",
       "    <tr>\n",
       "      <th>TAX_CLASS_AT_TIME_OF_SALE</th>\n",
       "      <td>-0.374458</td>\n",
       "      <td>0.005064</td>\n",
       "      <td>0.048396</td>\n",
       "      <td>0.033584</td>\n",
       "      <td>0.070473</td>\n",
       "      <td>0.150445</td>\n",
       "      <td>0.170272</td>\n",
       "      <td>1.000000</td>\n",
       "      <td>0.109872</td>\n",
       "      <td>0.006642</td>\n",
       "      <td>-0.170272</td>\n",
       "    </tr>\n",
       "    <tr>\n",
       "      <th>SALE_PRICE</th>\n",
       "      <td>-0.076983</td>\n",
       "      <td>0.137850</td>\n",
       "      <td>0.047275</td>\n",
       "      <td>0.139350</td>\n",
       "      <td>0.038963</td>\n",
       "      <td>0.508071</td>\n",
       "      <td>0.002754</td>\n",
       "      <td>0.109872</td>\n",
       "      <td>1.000000</td>\n",
       "      <td>-0.002489</td>\n",
       "      <td>-0.002754</td>\n",
       "    </tr>\n",
       "    <tr>\n",
       "      <th>SALE_YEAR</th>\n",
       "      <td>-0.018976</td>\n",
       "      <td>-0.012076</td>\n",
       "      <td>-0.006935</td>\n",
       "      <td>-0.013805</td>\n",
       "      <td>-0.001680</td>\n",
       "      <td>-0.009861</td>\n",
       "      <td>0.005720</td>\n",
       "      <td>0.006642</td>\n",
       "      <td>-0.002489</td>\n",
       "      <td>1.000000</td>\n",
       "      <td>-0.005720</td>\n",
       "    </tr>\n",
       "    <tr>\n",
       "      <th>AGE</th>\n",
       "      <td>-0.074782</td>\n",
       "      <td>0.021600</td>\n",
       "      <td>0.004103</td>\n",
       "      <td>0.019263</td>\n",
       "      <td>-0.007225</td>\n",
       "      <td>-0.009938</td>\n",
       "      <td>-1.000000</td>\n",
       "      <td>-0.170272</td>\n",
       "      <td>-0.002754</td>\n",
       "      <td>-0.005720</td>\n",
       "      <td>1.000000</td>\n",
       "    </tr>\n",
       "  </tbody>\n",
       "</table>\n",
       "</div>"
      ],
      "text/plain": [
       "                            BOROUGH  RESIDENTIAL_UNITS  COMMERCIAL_UNITS  \\\n",
       "BOROUGH                    1.000000          -0.019738          0.000680   \n",
       "RESIDENTIAL_UNITS         -0.019738           1.000000          0.013213   \n",
       "COMMERCIAL_UNITS           0.000680           0.013213          1.000000   \n",
       "TOTAL_UNITS               -0.015842           0.823166          0.578592   \n",
       "LAND_SQUARE_FEET           0.023582           0.430154          0.051836   \n",
       "GROSS_SQUARE_FEET         -0.086304           0.706839          0.065451   \n",
       "YEAR_BUILT                 0.074782          -0.021600         -0.004103   \n",
       "TAX_CLASS_AT_TIME_OF_SALE -0.374458           0.005064          0.048396   \n",
       "SALE_PRICE                -0.076983           0.137850          0.047275   \n",
       "SALE_YEAR                 -0.018976          -0.012076         -0.006935   \n",
       "AGE                       -0.074782           0.021600          0.004103   \n",
       "\n",
       "                           TOTAL_UNITS  LAND_SQUARE_FEET  GROSS_SQUARE_FEET  \\\n",
       "BOROUGH                      -0.015842          0.023582          -0.086304   \n",
       "RESIDENTIAL_UNITS             0.823166          0.430154           0.706839   \n",
       "COMMERCIAL_UNITS              0.578592          0.051836           0.065451   \n",
       "TOTAL_UNITS                   1.000000          0.380173           0.613405   \n",
       "LAND_SQUARE_FEET              0.380173          1.000000           0.615670   \n",
       "GROSS_SQUARE_FEET             0.613405          0.615670           1.000000   \n",
       "YEAR_BUILT                   -0.019263          0.007225           0.009938   \n",
       "TAX_CLASS_AT_TIME_OF_SALE     0.033584          0.070473           0.150445   \n",
       "SALE_PRICE                    0.139350          0.038963           0.508071   \n",
       "SALE_YEAR                    -0.013805         -0.001680          -0.009861   \n",
       "AGE                           0.019263         -0.007225          -0.009938   \n",
       "\n",
       "                           YEAR_BUILT  TAX_CLASS_AT_TIME_OF_SALE  SALE_PRICE  \\\n",
       "BOROUGH                      0.074782                  -0.374458   -0.076983   \n",
       "RESIDENTIAL_UNITS           -0.021600                   0.005064    0.137850   \n",
       "COMMERCIAL_UNITS            -0.004103                   0.048396    0.047275   \n",
       "TOTAL_UNITS                 -0.019263                   0.033584    0.139350   \n",
       "LAND_SQUARE_FEET             0.007225                   0.070473    0.038963   \n",
       "GROSS_SQUARE_FEET            0.009938                   0.150445    0.508071   \n",
       "YEAR_BUILT                   1.000000                   0.170272    0.002754   \n",
       "TAX_CLASS_AT_TIME_OF_SALE    0.170272                   1.000000    0.109872   \n",
       "SALE_PRICE                   0.002754                   0.109872    1.000000   \n",
       "SALE_YEAR                    0.005720                   0.006642   -0.002489   \n",
       "AGE                         -1.000000                  -0.170272   -0.002754   \n",
       "\n",
       "                           SALE_YEAR       AGE  \n",
       "BOROUGH                    -0.018976 -0.074782  \n",
       "RESIDENTIAL_UNITS          -0.012076  0.021600  \n",
       "COMMERCIAL_UNITS           -0.006935  0.004103  \n",
       "TOTAL_UNITS                -0.013805  0.019263  \n",
       "LAND_SQUARE_FEET           -0.001680 -0.007225  \n",
       "GROSS_SQUARE_FEET          -0.009861 -0.009938  \n",
       "YEAR_BUILT                  0.005720 -1.000000  \n",
       "TAX_CLASS_AT_TIME_OF_SALE   0.006642 -0.170272  \n",
       "SALE_PRICE                 -0.002489 -0.002754  \n",
       "SALE_YEAR                   1.000000 -0.005720  \n",
       "AGE                        -0.005720  1.000000  "
      ]
     },
     "execution_count": 1531,
     "metadata": {},
     "output_type": "execute_result"
    }
   ],
   "source": [
    "df.corr()"
   ]
  },
  {
   "cell_type": "markdown",
   "id": "ca10d75f",
   "metadata": {},
   "source": [
    "---END OF CHANGE REQUEST ---"
   ]
  },
  {
   "cell_type": "markdown",
   "id": "e24b01c2",
   "metadata": {},
   "source": [
    "Find the outliers for Gross Square Feet and LAND_SQUARE_FEET"
   ]
  },
  {
   "cell_type": "markdown",
   "id": "94f9830b",
   "metadata": {},
   "source": [
    "Remove outliers of GROSS_SQUARE_FEET and LAND_SQUARE_FEET based on using +/- 3 std deviation"
   ]
  },
  {
   "cell_type": "code",
   "execution_count": 1532,
   "id": "cb0bd5b3",
   "metadata": {},
   "outputs": [],
   "source": [
    "gsf_mean = df['GROSS_SQUARE_FEET'].mean()\n",
    "gsf_std = df['GROSS_SQUARE_FEET'].std()\n",
    "\n",
    "gsf_cutoff = gsf_std * 3\n",
    "\n",
    "gsf_upper_threshold, gsf_lower_threshold = gsf_mean + gsf_cutoff, gsf_mean - gsf_cutoff\n",
    "\n",
    "df = df[(df['GROSS_SQUARE_FEET']> gsf_lower_threshold) & (df['GROSS_SQUARE_FEET']< gsf_upper_threshold)]\n",
    "df = df[df['GROSS_SQUARE_FEET']!= 0]"
   ]
  },
  {
   "cell_type": "code",
   "execution_count": 1533,
   "id": "3993ed67",
   "metadata": {},
   "outputs": [],
   "source": [
    "lsf_mean = df['LAND_SQUARE_FEET'].mean()\n",
    "lsf_std = df['LAND_SQUARE_FEET'].std()\n",
    "\n",
    "lsf_cutoff = lsf_std * 3\n",
    "\n",
    "lsf_upper_threshold, lsf_lower_threshold = lsf_mean + lsf_cutoff, lsf_mean - lsf_cutoff\n",
    "\n",
    "df = df[(df['LAND_SQUARE_FEET']> lsf_lower_threshold) & (df['LAND_SQUARE_FEET']< lsf_upper_threshold)]\n",
    "df = df[df['LAND_SQUARE_FEET']!= 0]"
   ]
  },
  {
   "cell_type": "code",
   "execution_count": 1534,
   "id": "3aa76dea",
   "metadata": {
    "scrolled": false
   },
   "outputs": [
    {
     "name": "stdout",
     "output_type": "stream",
     "text": [
      "3753.2706070905524 30820.11153688261 92460.33461064783 96213.60521773838 -88707.06400355727\n"
     ]
    }
   ],
   "source": [
    "print(gsf_mean,gsf_std,gsf_cutoff,gsf_upper_threshold,gsf_lower_threshold )"
   ]
  },
  {
   "cell_type": "markdown",
   "id": "af6cea1d",
   "metadata": {},
   "source": [
    ">Change Request: I kept all three variables. No significant change on the model."
   ]
  },
  {
   "cell_type": "code",
   "execution_count": 1535,
   "id": "29e16ea4",
   "metadata": {},
   "outputs": [],
   "source": [
    "#df = df[df['TOTAL_UNITS'] == df['RESIDENTIAL_UNITS'] + df['COMMERCIAL_UNITS']]\n",
    "#df = df.drop(['RESIDENTIAL_UNITS','COMMERCIAL_UNITS'], axis = 1)"
   ]
  },
  {
   "cell_type": "markdown",
   "id": "e92ca85b",
   "metadata": {},
   "source": [
    "> End of Change Request"
   ]
  },
  {
   "cell_type": "code",
   "execution_count": 1536,
   "id": "14514cdf",
   "metadata": {},
   "outputs": [
    {
     "data": {
      "text/plain": [
       "Index(['BOROUGH', 'NEIGHBORHOOD', 'RESIDENTIAL_UNITS', 'COMMERCIAL_UNITS',\n",
       "       'TOTAL_UNITS', 'LAND_SQUARE_FEET', 'GROSS_SQUARE_FEET', 'YEAR_BUILT',\n",
       "       'TAX_CLASS_AT_TIME_OF_SALE', 'BUILDING_CLASS_AT_TIME_OF_SALE',\n",
       "       'SALE_PRICE', 'CAT_BUILDING_CLASS', 'SALE_YEAR', 'CAT_COMMERCIAL_UNITS',\n",
       "       'AGE'],\n",
       "      dtype='object')"
      ]
     },
     "execution_count": 1536,
     "metadata": {},
     "output_type": "execute_result"
    }
   ],
   "source": [
    "df.columns"
   ]
  },
  {
   "cell_type": "markdown",
   "id": "b0637cf6",
   "metadata": {},
   "source": [
    "Remove unexpected values from the total units"
   ]
  },
  {
   "cell_type": "code",
   "execution_count": 1537,
   "id": "c964e9f0",
   "metadata": {},
   "outputs": [],
   "source": [
    "df = df[(df['TOTAL_UNITS'] > 0) & (df['TOTAL_UNITS'] != 2261)]"
   ]
  },
  {
   "cell_type": "code",
   "execution_count": 1538,
   "id": "ba3fe2ee",
   "metadata": {},
   "outputs": [
    {
     "name": "stdout",
     "output_type": "stream",
     "text": [
      "<class 'pandas.core.frame.DataFrame'>\n",
      "Int64Index: 29040 entries, 0 to 84547\n",
      "Data columns (total 15 columns):\n",
      " #   Column                          Non-Null Count  Dtype   \n",
      "---  ------                          --------------  -----   \n",
      " 0   BOROUGH                         29040 non-null  int64   \n",
      " 1   NEIGHBORHOOD                    29040 non-null  object  \n",
      " 2   RESIDENTIAL_UNITS               29040 non-null  int64   \n",
      " 3   COMMERCIAL_UNITS                29040 non-null  int64   \n",
      " 4   TOTAL_UNITS                     29040 non-null  int64   \n",
      " 5   LAND_SQUARE_FEET                29040 non-null  float64 \n",
      " 6   GROSS_SQUARE_FEET               29040 non-null  float64 \n",
      " 7   YEAR_BUILT                      29040 non-null  int64   \n",
      " 8   TAX_CLASS_AT_TIME_OF_SALE       29040 non-null  int64   \n",
      " 9   BUILDING_CLASS_AT_TIME_OF_SALE  29040 non-null  object  \n",
      " 10  SALE_PRICE                      29040 non-null  float64 \n",
      " 11  CAT_BUILDING_CLASS              29040 non-null  object  \n",
      " 12  SALE_YEAR                       29040 non-null  int64   \n",
      " 13  CAT_COMMERCIAL_UNITS            29040 non-null  category\n",
      " 14  AGE                             29040 non-null  int64   \n",
      "dtypes: category(1), float64(3), int64(8), object(3)\n",
      "memory usage: 3.4+ MB\n"
     ]
    }
   ],
   "source": [
    "df.info()"
   ]
  },
  {
   "cell_type": "code",
   "execution_count": 1539,
   "id": "4ac8366e",
   "metadata": {},
   "outputs": [],
   "source": [
    "import seaborn as sns\n",
    "#sns.pairplot(df,hue='SALE_PRICE',palette='husl')\n",
    "#sns.pairplot(df,vars = ['SALE_PRICE','LAND_SQUARE_FEET','GROSS_SQUARE_FEET','TOTAL_UNITS','AGE'],palette='husl')"
   ]
  },
  {
   "cell_type": "code",
   "execution_count": 1540,
   "id": "256c1314",
   "metadata": {},
   "outputs": [
    {
     "data": {
      "text/plain": [
       "(29040, 15)"
      ]
     },
     "execution_count": 1540,
     "metadata": {},
     "output_type": "execute_result"
    }
   ],
   "source": [
    "df.shape"
   ]
  },
  {
   "cell_type": "code",
   "execution_count": 1541,
   "id": "ba5e1bde",
   "metadata": {},
   "outputs": [
    {
     "data": {
      "text/html": [
       "<div>\n",
       "<style scoped>\n",
       "    .dataframe tbody tr th:only-of-type {\n",
       "        vertical-align: middle;\n",
       "    }\n",
       "\n",
       "    .dataframe tbody tr th {\n",
       "        vertical-align: top;\n",
       "    }\n",
       "\n",
       "    .dataframe thead th {\n",
       "        text-align: right;\n",
       "    }\n",
       "</style>\n",
       "<table border=\"1\" class=\"dataframe\">\n",
       "  <thead>\n",
       "    <tr style=\"text-align: right;\">\n",
       "      <th></th>\n",
       "      <th>BOROUGH</th>\n",
       "      <th>RESIDENTIAL_UNITS</th>\n",
       "      <th>COMMERCIAL_UNITS</th>\n",
       "      <th>TOTAL_UNITS</th>\n",
       "      <th>LAND_SQUARE_FEET</th>\n",
       "      <th>GROSS_SQUARE_FEET</th>\n",
       "      <th>YEAR_BUILT</th>\n",
       "      <th>TAX_CLASS_AT_TIME_OF_SALE</th>\n",
       "      <th>SALE_PRICE</th>\n",
       "      <th>SALE_YEAR</th>\n",
       "      <th>AGE</th>\n",
       "    </tr>\n",
       "  </thead>\n",
       "  <tbody>\n",
       "    <tr>\n",
       "      <th>count</th>\n",
       "      <td>29040.000000</td>\n",
       "      <td>29040.000000</td>\n",
       "      <td>29040.000000</td>\n",
       "      <td>29040.000000</td>\n",
       "      <td>29040.000000</td>\n",
       "      <td>29040.000000</td>\n",
       "      <td>29040.000000</td>\n",
       "      <td>29040.000000</td>\n",
       "      <td>2.904000e+04</td>\n",
       "      <td>29040.000000</td>\n",
       "      <td>29040.000000</td>\n",
       "    </tr>\n",
       "    <tr>\n",
       "      <th>mean</th>\n",
       "      <td>3.547107</td>\n",
       "      <td>2.379924</td>\n",
       "      <td>0.155888</td>\n",
       "      <td>2.534401</td>\n",
       "      <td>3253.101309</td>\n",
       "      <td>2894.653478</td>\n",
       "      <td>1940.485468</td>\n",
       "      <td>1.211054</td>\n",
       "      <td>1.212941e+06</td>\n",
       "      <td>2016.646556</td>\n",
       "      <td>82.514532</td>\n",
       "    </tr>\n",
       "    <tr>\n",
       "      <th>std</th>\n",
       "      <td>1.007660</td>\n",
       "      <td>5.335570</td>\n",
       "      <td>0.887317</td>\n",
       "      <td>5.468510</td>\n",
       "      <td>2662.204818</td>\n",
       "      <td>5430.009979</td>\n",
       "      <td>30.410546</td>\n",
       "      <td>0.654921</td>\n",
       "      <td>3.896005e+06</td>\n",
       "      <td>0.478047</td>\n",
       "      <td>30.410546</td>\n",
       "    </tr>\n",
       "    <tr>\n",
       "      <th>min</th>\n",
       "      <td>1.000000</td>\n",
       "      <td>0.000000</td>\n",
       "      <td>0.000000</td>\n",
       "      <td>1.000000</td>\n",
       "      <td>200.000000</td>\n",
       "      <td>120.000000</td>\n",
       "      <td>1800.000000</td>\n",
       "      <td>1.000000</td>\n",
       "      <td>1.000000e+00</td>\n",
       "      <td>2016.000000</td>\n",
       "      <td>6.000000</td>\n",
       "    </tr>\n",
       "    <tr>\n",
       "      <th>25%</th>\n",
       "      <td>3.000000</td>\n",
       "      <td>1.000000</td>\n",
       "      <td>0.000000</td>\n",
       "      <td>1.000000</td>\n",
       "      <td>2000.000000</td>\n",
       "      <td>1360.000000</td>\n",
       "      <td>1920.000000</td>\n",
       "      <td>1.000000</td>\n",
       "      <td>4.200000e+05</td>\n",
       "      <td>2016.000000</td>\n",
       "      <td>65.000000</td>\n",
       "    </tr>\n",
       "    <tr>\n",
       "      <th>50%</th>\n",
       "      <td>4.000000</td>\n",
       "      <td>2.000000</td>\n",
       "      <td>0.000000</td>\n",
       "      <td>2.000000</td>\n",
       "      <td>2500.000000</td>\n",
       "      <td>1864.000000</td>\n",
       "      <td>1930.000000</td>\n",
       "      <td>1.000000</td>\n",
       "      <td>6.200000e+05</td>\n",
       "      <td>2017.000000</td>\n",
       "      <td>93.000000</td>\n",
       "    </tr>\n",
       "    <tr>\n",
       "      <th>75%</th>\n",
       "      <td>4.000000</td>\n",
       "      <td>2.000000</td>\n",
       "      <td>0.000000</td>\n",
       "      <td>2.000000</td>\n",
       "      <td>3969.000000</td>\n",
       "      <td>2640.000000</td>\n",
       "      <td>1958.000000</td>\n",
       "      <td>1.000000</td>\n",
       "      <td>9.500000e+05</td>\n",
       "      <td>2017.000000</td>\n",
       "      <td>103.000000</td>\n",
       "    </tr>\n",
       "    <tr>\n",
       "      <th>max</th>\n",
       "      <td>5.000000</td>\n",
       "      <td>129.000000</td>\n",
       "      <td>62.000000</td>\n",
       "      <td>129.000000</td>\n",
       "      <td>41901.000000</td>\n",
       "      <td>95370.000000</td>\n",
       "      <td>2017.000000</td>\n",
       "      <td>4.000000</td>\n",
       "      <td>2.681242e+08</td>\n",
       "      <td>2017.000000</td>\n",
       "      <td>223.000000</td>\n",
       "    </tr>\n",
       "  </tbody>\n",
       "</table>\n",
       "</div>"
      ],
      "text/plain": [
       "            BOROUGH  RESIDENTIAL_UNITS  COMMERCIAL_UNITS   TOTAL_UNITS  \\\n",
       "count  29040.000000       29040.000000      29040.000000  29040.000000   \n",
       "mean       3.547107           2.379924          0.155888      2.534401   \n",
       "std        1.007660           5.335570          0.887317      5.468510   \n",
       "min        1.000000           0.000000          0.000000      1.000000   \n",
       "25%        3.000000           1.000000          0.000000      1.000000   \n",
       "50%        4.000000           2.000000          0.000000      2.000000   \n",
       "75%        4.000000           2.000000          0.000000      2.000000   \n",
       "max        5.000000         129.000000         62.000000    129.000000   \n",
       "\n",
       "       LAND_SQUARE_FEET  GROSS_SQUARE_FEET    YEAR_BUILT  \\\n",
       "count      29040.000000       29040.000000  29040.000000   \n",
       "mean        3253.101309        2894.653478   1940.485468   \n",
       "std         2662.204818        5430.009979     30.410546   \n",
       "min          200.000000         120.000000   1800.000000   \n",
       "25%         2000.000000        1360.000000   1920.000000   \n",
       "50%         2500.000000        1864.000000   1930.000000   \n",
       "75%         3969.000000        2640.000000   1958.000000   \n",
       "max        41901.000000       95370.000000   2017.000000   \n",
       "\n",
       "       TAX_CLASS_AT_TIME_OF_SALE    SALE_PRICE     SALE_YEAR           AGE  \n",
       "count               29040.000000  2.904000e+04  29040.000000  29040.000000  \n",
       "mean                    1.211054  1.212941e+06   2016.646556     82.514532  \n",
       "std                     0.654921  3.896005e+06      0.478047     30.410546  \n",
       "min                     1.000000  1.000000e+00   2016.000000      6.000000  \n",
       "25%                     1.000000  4.200000e+05   2016.000000     65.000000  \n",
       "50%                     1.000000  6.200000e+05   2017.000000     93.000000  \n",
       "75%                     1.000000  9.500000e+05   2017.000000    103.000000  \n",
       "max                     4.000000  2.681242e+08   2017.000000    223.000000  "
      ]
     },
     "execution_count": 1541,
     "metadata": {},
     "output_type": "execute_result"
    }
   ],
   "source": [
    "df.describe()"
   ]
  },
  {
   "cell_type": "code",
   "execution_count": 1542,
   "id": "1985c447",
   "metadata": {},
   "outputs": [
    {
     "data": {
      "text/html": [
       "<div>\n",
       "<style scoped>\n",
       "    .dataframe tbody tr th:only-of-type {\n",
       "        vertical-align: middle;\n",
       "    }\n",
       "\n",
       "    .dataframe tbody tr th {\n",
       "        vertical-align: top;\n",
       "    }\n",
       "\n",
       "    .dataframe thead th {\n",
       "        text-align: right;\n",
       "    }\n",
       "</style>\n",
       "<table border=\"1\" class=\"dataframe\">\n",
       "  <thead>\n",
       "    <tr style=\"text-align: right;\">\n",
       "      <th></th>\n",
       "      <th>BOROUGH</th>\n",
       "      <th>RESIDENTIAL_UNITS</th>\n",
       "      <th>COMMERCIAL_UNITS</th>\n",
       "      <th>TOTAL_UNITS</th>\n",
       "      <th>LAND_SQUARE_FEET</th>\n",
       "      <th>GROSS_SQUARE_FEET</th>\n",
       "      <th>YEAR_BUILT</th>\n",
       "      <th>TAX_CLASS_AT_TIME_OF_SALE</th>\n",
       "      <th>SALE_PRICE</th>\n",
       "      <th>SALE_YEAR</th>\n",
       "      <th>AGE</th>\n",
       "    </tr>\n",
       "  </thead>\n",
       "  <tbody>\n",
       "    <tr>\n",
       "      <th>BOROUGH</th>\n",
       "      <td>1.000000</td>\n",
       "      <td>-0.227817</td>\n",
       "      <td>-0.135216</td>\n",
       "      <td>-0.244078</td>\n",
       "      <td>0.107660</td>\n",
       "      <td>-0.247442</td>\n",
       "      <td>0.355424</td>\n",
       "      <td>-0.212964</td>\n",
       "      <td>-0.225731</td>\n",
       "      <td>-0.009900</td>\n",
       "      <td>-0.355424</td>\n",
       "    </tr>\n",
       "    <tr>\n",
       "      <th>RESIDENTIAL_UNITS</th>\n",
       "      <td>-0.227817</td>\n",
       "      <td>1.000000</td>\n",
       "      <td>0.070469</td>\n",
       "      <td>0.986907</td>\n",
       "      <td>0.258520</td>\n",
       "      <td>0.775409</td>\n",
       "      <td>-0.069121</td>\n",
       "      <td>0.153789</td>\n",
       "      <td>0.345696</td>\n",
       "      <td>-0.011577</td>\n",
       "      <td>0.069121</td>\n",
       "    </tr>\n",
       "    <tr>\n",
       "      <th>COMMERCIAL_UNITS</th>\n",
       "      <td>-0.135216</td>\n",
       "      <td>0.070469</td>\n",
       "      <td>1.000000</td>\n",
       "      <td>0.229896</td>\n",
       "      <td>0.193825</td>\n",
       "      <td>0.355932</td>\n",
       "      <td>-0.039060</td>\n",
       "      <td>0.494842</td>\n",
       "      <td>0.304076</td>\n",
       "      <td>-0.001296</td>\n",
       "      <td>0.039060</td>\n",
       "    </tr>\n",
       "    <tr>\n",
       "      <th>TOTAL_UNITS</th>\n",
       "      <td>-0.244078</td>\n",
       "      <td>0.986907</td>\n",
       "      <td>0.229896</td>\n",
       "      <td>1.000000</td>\n",
       "      <td>0.283631</td>\n",
       "      <td>0.814205</td>\n",
       "      <td>-0.073777</td>\n",
       "      <td>0.229590</td>\n",
       "      <td>0.386493</td>\n",
       "      <td>-0.011486</td>\n",
       "      <td>0.073777</td>\n",
       "    </tr>\n",
       "    <tr>\n",
       "      <th>LAND_SQUARE_FEET</th>\n",
       "      <td>0.107660</td>\n",
       "      <td>0.258520</td>\n",
       "      <td>0.193825</td>\n",
       "      <td>0.283631</td>\n",
       "      <td>1.000000</td>\n",
       "      <td>0.489737</td>\n",
       "      <td>0.081366</td>\n",
       "      <td>0.313632</td>\n",
       "      <td>0.244333</td>\n",
       "      <td>-0.017628</td>\n",
       "      <td>-0.081366</td>\n",
       "    </tr>\n",
       "    <tr>\n",
       "      <th>GROSS_SQUARE_FEET</th>\n",
       "      <td>-0.247442</td>\n",
       "      <td>0.775409</td>\n",
       "      <td>0.355932</td>\n",
       "      <td>0.814205</td>\n",
       "      <td>0.489737</td>\n",
       "      <td>1.000000</td>\n",
       "      <td>-0.035779</td>\n",
       "      <td>0.396346</td>\n",
       "      <td>0.536210</td>\n",
       "      <td>-0.008605</td>\n",
       "      <td>0.035779</td>\n",
       "    </tr>\n",
       "    <tr>\n",
       "      <th>YEAR_BUILT</th>\n",
       "      <td>0.355424</td>\n",
       "      <td>-0.069121</td>\n",
       "      <td>-0.039060</td>\n",
       "      <td>-0.073777</td>\n",
       "      <td>0.081366</td>\n",
       "      <td>-0.035779</td>\n",
       "      <td>1.000000</td>\n",
       "      <td>-0.046733</td>\n",
       "      <td>-0.057721</td>\n",
       "      <td>-0.008547</td>\n",
       "      <td>-1.000000</td>\n",
       "    </tr>\n",
       "    <tr>\n",
       "      <th>TAX_CLASS_AT_TIME_OF_SALE</th>\n",
       "      <td>-0.212964</td>\n",
       "      <td>0.153789</td>\n",
       "      <td>0.494842</td>\n",
       "      <td>0.229590</td>\n",
       "      <td>0.313632</td>\n",
       "      <td>0.396346</td>\n",
       "      <td>-0.046733</td>\n",
       "      <td>1.000000</td>\n",
       "      <td>0.311336</td>\n",
       "      <td>-0.000742</td>\n",
       "      <td>0.046733</td>\n",
       "    </tr>\n",
       "    <tr>\n",
       "      <th>SALE_PRICE</th>\n",
       "      <td>-0.225731</td>\n",
       "      <td>0.345696</td>\n",
       "      <td>0.304076</td>\n",
       "      <td>0.386493</td>\n",
       "      <td>0.244333</td>\n",
       "      <td>0.536210</td>\n",
       "      <td>-0.057721</td>\n",
       "      <td>0.311336</td>\n",
       "      <td>1.000000</td>\n",
       "      <td>0.000776</td>\n",
       "      <td>0.057721</td>\n",
       "    </tr>\n",
       "    <tr>\n",
       "      <th>SALE_YEAR</th>\n",
       "      <td>-0.009900</td>\n",
       "      <td>-0.011577</td>\n",
       "      <td>-0.001296</td>\n",
       "      <td>-0.011486</td>\n",
       "      <td>-0.017628</td>\n",
       "      <td>-0.008605</td>\n",
       "      <td>-0.008547</td>\n",
       "      <td>-0.000742</td>\n",
       "      <td>0.000776</td>\n",
       "      <td>1.000000</td>\n",
       "      <td>0.008547</td>\n",
       "    </tr>\n",
       "    <tr>\n",
       "      <th>AGE</th>\n",
       "      <td>-0.355424</td>\n",
       "      <td>0.069121</td>\n",
       "      <td>0.039060</td>\n",
       "      <td>0.073777</td>\n",
       "      <td>-0.081366</td>\n",
       "      <td>0.035779</td>\n",
       "      <td>-1.000000</td>\n",
       "      <td>0.046733</td>\n",
       "      <td>0.057721</td>\n",
       "      <td>0.008547</td>\n",
       "      <td>1.000000</td>\n",
       "    </tr>\n",
       "  </tbody>\n",
       "</table>\n",
       "</div>"
      ],
      "text/plain": [
       "                            BOROUGH  RESIDENTIAL_UNITS  COMMERCIAL_UNITS  \\\n",
       "BOROUGH                    1.000000          -0.227817         -0.135216   \n",
       "RESIDENTIAL_UNITS         -0.227817           1.000000          0.070469   \n",
       "COMMERCIAL_UNITS          -0.135216           0.070469          1.000000   \n",
       "TOTAL_UNITS               -0.244078           0.986907          0.229896   \n",
       "LAND_SQUARE_FEET           0.107660           0.258520          0.193825   \n",
       "GROSS_SQUARE_FEET         -0.247442           0.775409          0.355932   \n",
       "YEAR_BUILT                 0.355424          -0.069121         -0.039060   \n",
       "TAX_CLASS_AT_TIME_OF_SALE -0.212964           0.153789          0.494842   \n",
       "SALE_PRICE                -0.225731           0.345696          0.304076   \n",
       "SALE_YEAR                 -0.009900          -0.011577         -0.001296   \n",
       "AGE                       -0.355424           0.069121          0.039060   \n",
       "\n",
       "                           TOTAL_UNITS  LAND_SQUARE_FEET  GROSS_SQUARE_FEET  \\\n",
       "BOROUGH                      -0.244078          0.107660          -0.247442   \n",
       "RESIDENTIAL_UNITS             0.986907          0.258520           0.775409   \n",
       "COMMERCIAL_UNITS              0.229896          0.193825           0.355932   \n",
       "TOTAL_UNITS                   1.000000          0.283631           0.814205   \n",
       "LAND_SQUARE_FEET              0.283631          1.000000           0.489737   \n",
       "GROSS_SQUARE_FEET             0.814205          0.489737           1.000000   \n",
       "YEAR_BUILT                   -0.073777          0.081366          -0.035779   \n",
       "TAX_CLASS_AT_TIME_OF_SALE     0.229590          0.313632           0.396346   \n",
       "SALE_PRICE                    0.386493          0.244333           0.536210   \n",
       "SALE_YEAR                    -0.011486         -0.017628          -0.008605   \n",
       "AGE                           0.073777         -0.081366           0.035779   \n",
       "\n",
       "                           YEAR_BUILT  TAX_CLASS_AT_TIME_OF_SALE  SALE_PRICE  \\\n",
       "BOROUGH                      0.355424                  -0.212964   -0.225731   \n",
       "RESIDENTIAL_UNITS           -0.069121                   0.153789    0.345696   \n",
       "COMMERCIAL_UNITS            -0.039060                   0.494842    0.304076   \n",
       "TOTAL_UNITS                 -0.073777                   0.229590    0.386493   \n",
       "LAND_SQUARE_FEET             0.081366                   0.313632    0.244333   \n",
       "GROSS_SQUARE_FEET           -0.035779                   0.396346    0.536210   \n",
       "YEAR_BUILT                   1.000000                  -0.046733   -0.057721   \n",
       "TAX_CLASS_AT_TIME_OF_SALE   -0.046733                   1.000000    0.311336   \n",
       "SALE_PRICE                  -0.057721                   0.311336    1.000000   \n",
       "SALE_YEAR                   -0.008547                  -0.000742    0.000776   \n",
       "AGE                         -1.000000                   0.046733    0.057721   \n",
       "\n",
       "                           SALE_YEAR       AGE  \n",
       "BOROUGH                    -0.009900 -0.355424  \n",
       "RESIDENTIAL_UNITS          -0.011577  0.069121  \n",
       "COMMERCIAL_UNITS           -0.001296  0.039060  \n",
       "TOTAL_UNITS                -0.011486  0.073777  \n",
       "LAND_SQUARE_FEET           -0.017628 -0.081366  \n",
       "GROSS_SQUARE_FEET          -0.008605  0.035779  \n",
       "YEAR_BUILT                 -0.008547 -1.000000  \n",
       "TAX_CLASS_AT_TIME_OF_SALE  -0.000742  0.046733  \n",
       "SALE_PRICE                  0.000776  0.057721  \n",
       "SALE_YEAR                   1.000000  0.008547  \n",
       "AGE                         0.008547  1.000000  "
      ]
     },
     "execution_count": 1542,
     "metadata": {},
     "output_type": "execute_result"
    }
   ],
   "source": [
    "df.corr()"
   ]
  },
  {
   "cell_type": "markdown",
   "id": "fb159b3f",
   "metadata": {},
   "source": [
    "# Creating Pipeline"
   ]
  },
  {
   "cell_type": "markdown",
   "id": "0ae99e4f",
   "metadata": {},
   "source": [
    "Creating pipelines to transform numeric and non numeric variables"
   ]
  },
  {
   "cell_type": "code",
   "execution_count": 1543,
   "id": "af5fd223",
   "metadata": {},
   "outputs": [],
   "source": [
    "from sklearn.impute import SimpleImputer\n",
    "from sklearn.preprocessing import OneHotEncoder, StandardScaler\n",
    "from sklearn.pipeline import Pipeline\n",
    "from sklearn.compose import ColumnTransformer\n",
    "from sklearn.linear_model import LinearRegression\n",
    "from sklearn.model_selection import train_test_split,GridSearchCV\n",
    "from sklearn.neighbors import KNeighborsClassifier, KNeighborsRegressor\n",
    "from sklearn import metrics\n",
    "from sklearn.model_selection import cross_val_score"
   ]
  },
  {
   "cell_type": "code",
   "execution_count": 1544,
   "id": "de97a7a6",
   "metadata": {
    "scrolled": true
   },
   "outputs": [
    {
     "name": "stdout",
     "output_type": "stream",
     "text": [
      "<class 'pandas.core.frame.DataFrame'>\n",
      "Int64Index: 29040 entries, 0 to 84547\n",
      "Data columns (total 15 columns):\n",
      " #   Column                          Non-Null Count  Dtype   \n",
      "---  ------                          --------------  -----   \n",
      " 0   BOROUGH                         29040 non-null  int64   \n",
      " 1   NEIGHBORHOOD                    29040 non-null  object  \n",
      " 2   RESIDENTIAL_UNITS               29040 non-null  int64   \n",
      " 3   COMMERCIAL_UNITS                29040 non-null  int64   \n",
      " 4   TOTAL_UNITS                     29040 non-null  int64   \n",
      " 5   LAND_SQUARE_FEET                29040 non-null  float64 \n",
      " 6   GROSS_SQUARE_FEET               29040 non-null  float64 \n",
      " 7   YEAR_BUILT                      29040 non-null  int64   \n",
      " 8   TAX_CLASS_AT_TIME_OF_SALE       29040 non-null  int64   \n",
      " 9   BUILDING_CLASS_AT_TIME_OF_SALE  29040 non-null  object  \n",
      " 10  SALE_PRICE                      29040 non-null  float64 \n",
      " 11  CAT_BUILDING_CLASS              29040 non-null  object  \n",
      " 12  SALE_YEAR                       29040 non-null  int64   \n",
      " 13  CAT_COMMERCIAL_UNITS            29040 non-null  category\n",
      " 14  AGE                             29040 non-null  int64   \n",
      "dtypes: category(1), float64(3), int64(8), object(3)\n",
      "memory usage: 3.4+ MB\n"
     ]
    }
   ],
   "source": [
    "df.info()"
   ]
  },
  {
   "cell_type": "markdown",
   "id": "e5a29ae6",
   "metadata": {},
   "source": [
    "Creating Pipelines for Numeric and Categorical Features \n",
    "1. Impute\n",
    "2. Scale\n",
    "3. OneHotEncoder\n"
   ]
  },
  {
   "cell_type": "code",
   "execution_count": 1659,
   "id": "40b7cd63",
   "metadata": {},
   "outputs": [],
   "source": [
    "steps_num = [('imputer',SimpleImputer(missing_values = np.nan, strategy='mean')),\n",
    "             ('scaler', StandardScaler())]\n",
    "steps_cat = [('imputer', SimpleImputer(strategy='most_frequent')),\n",
    "            ('onehot', OneHotEncoder(handle_unknown='ignore'))]\n",
    "              \n",
    "numeric_transformer = Pipeline(steps = steps_num)\n",
    "categorical_transformer = Pipeline(steps = steps_cat)\n",
    "\n",
    "numeric_features = ['TOTAL_UNITS','LAND_SQUARE_FEET','GROSS_SQUARE_FEET','AGE','COMMERCIAL_UNITS','RESIDENTIAL_UNITS','YEAR_BUILT','SALE_YEAR',]\n",
    "categorical_features = ['BOROUGH','NEIGHBORHOOD','CAT_COMMERCIAL_UNITS','TAX_CLASS_AT_TIME_OF_SALE']#,'CAT_BUILDING_CLASS','TAX_CLASS_AT_TIME_OF_SALE','BUILDING_CLASS_AT_TIME_OF_SALE']  \n"
   ]
  },
  {
   "cell_type": "code",
   "execution_count": 1660,
   "id": "3277efc6",
   "metadata": {},
   "outputs": [],
   "source": [
    "preprocessor = ColumnTransformer(transformers = [('num',numeric_transformer,numeric_features),\n",
    "                                                 ('cat',categorical_transformer,categorical_features)])\n"
   ]
  },
  {
   "cell_type": "markdown",
   "id": "1fe34b40",
   "metadata": {},
   "source": [
    "Test LinearRegression model"
   ]
  },
  {
   "cell_type": "code",
   "execution_count": 1661,
   "id": "2bdf218c",
   "metadata": {},
   "outputs": [],
   "source": [
    "reg = Pipeline(steps = [('preprocessor',preprocessor),\n",
    "                       ('regressor',LinearRegression())])"
   ]
  },
  {
   "cell_type": "code",
   "execution_count": 1662,
   "id": "11e79f6c",
   "metadata": {},
   "outputs": [],
   "source": [
    "y = df.SALE_PRICE\n",
    "X = df.drop('SALE_PRICE', axis =1)"
   ]
  },
  {
   "cell_type": "code",
   "execution_count": 1663,
   "id": "841d4f00",
   "metadata": {},
   "outputs": [],
   "source": [
    "X_train,X_test,y_train,y_test = train_test_split(X,y,test_size=0.3, random_state =42)"
   ]
  },
  {
   "cell_type": "code",
   "execution_count": 1664,
   "id": "b8687f0d",
   "metadata": {
    "scrolled": false
   },
   "outputs": [],
   "source": [
    "clf = reg.fit(X_train,y_train)"
   ]
  },
  {
   "cell_type": "code",
   "execution_count": 1665,
   "id": "c9bbd055",
   "metadata": {
    "scrolled": true
   },
   "outputs": [
    {
     "name": "stdout",
     "output_type": "stream",
     "text": [
      "[ -60459.61311165 1739723.78690097 1213746.06895546 ...  375291.68298287\n",
      "  669717.32506786  256718.91545365]\n"
     ]
    }
   ],
   "source": [
    "y_pred = reg.predict(X_test)\n",
    "print(reg.predict(X_test))\n"
   ]
  },
  {
   "cell_type": "markdown",
   "id": "464e288c",
   "metadata": {},
   "source": [
    "Calculate loss function"
   ]
  },
  {
   "cell_type": "code",
   "execution_count": 1666,
   "id": "fe0fe43f",
   "metadata": {
    "scrolled": true
   },
   "outputs": [
    {
     "name": "stdout",
     "output_type": "stream",
     "text": [
      "2280724.3986740215\n"
     ]
    }
   ],
   "source": [
    "print(np.sqrt(metrics.mean_squared_error(y_test,y_pred)))"
   ]
  },
  {
   "cell_type": "code",
   "execution_count": 1667,
   "id": "d923d2e9",
   "metadata": {},
   "outputs": [
    {
     "name": "stdout",
     "output_type": "stream",
     "text": [
      "RFR: 0.5154032779317046\n"
     ]
    }
   ],
   "source": [
    "r2 = clf.score(X_test, y_test)\n",
    "print(f\"RFR: {r2}\")"
   ]
  },
  {
   "cell_type": "markdown",
   "id": "3b122045",
   "metadata": {},
   "source": [
    "training performance is stable"
   ]
  },
  {
   "cell_type": "code",
   "execution_count": 1646,
   "id": "89092788",
   "metadata": {},
   "outputs": [
    {
     "data": {
      "text/plain": [
       "array([0.43848521, 0.56104395, 0.57235371, 0.57588514, 0.06487805,\n",
       "       0.22473794, 0.21851177, 0.42653832, 0.47467158, 0.16360959])"
      ]
     },
     "execution_count": 1646,
     "metadata": {},
     "output_type": "execute_result"
    }
   ],
   "source": [
    "cv_results = cross_val_score(reg,X_train, y_train, scoring='r2', cv=10)\n",
    "cv_results"
   ]
  },
  {
   "cell_type": "code",
   "execution_count": 1647,
   "id": "a59a2a83",
   "metadata": {},
   "outputs": [
    {
     "data": {
      "text/plain": [
       "array([0.52826995, 0.22440935, 0.31051409, 0.6453618 , 0.36100478,\n",
       "       0.624397  , 0.6744741 , 0.55999027, 0.43493617, 0.68094145])"
      ]
     },
     "execution_count": 1647,
     "metadata": {},
     "output_type": "execute_result"
    }
   ],
   "source": [
    "cv_results = cross_val_score(reg,X_test, y_test, scoring='r2', cv=10)\n",
    "cv_results"
   ]
  },
  {
   "cell_type": "code",
   "execution_count": 1648,
   "id": "a9e65397",
   "metadata": {},
   "outputs": [
    {
     "data": {
      "text/plain": [
       "0.5044298956992206"
      ]
     },
     "execution_count": 1648,
     "metadata": {},
     "output_type": "execute_result"
    }
   ],
   "source": [
    "np.mean(cv_results)"
   ]
  },
  {
   "cell_type": "markdown",
   "id": "87273a23",
   "metadata": {},
   "source": [
    ">Change Request: Test the data set with RandomForest model\n",
    "\n",
    "> Result: model score decreased (Used a lot of CPU/Memory resource. I commented out the CV_results. \n",
    "\n",
    "> np.mean() 0.48011891060335865"
   ]
  },
  {
   "cell_type": "code",
   "execution_count": 1567,
   "id": "e55d4140",
   "metadata": {},
   "outputs": [],
   "source": [
    "from sklearn.ensemble import RandomForestRegressor"
   ]
  },
  {
   "cell_type": "code",
   "execution_count": 1568,
   "id": "15ca7348",
   "metadata": {},
   "outputs": [],
   "source": [
    "reg = Pipeline(steps = [('preprocessor',preprocessor),\n",
    "                       ('regressor',RandomForestRegressor())])"
   ]
  },
  {
   "cell_type": "code",
   "execution_count": null,
   "id": "36f8d94b",
   "metadata": {},
   "outputs": [],
   "source": [
    "clf = reg.fit(X_train,y_train)"
   ]
  },
  {
   "cell_type": "code",
   "execution_count": 1569,
   "id": "54e7d254",
   "metadata": {},
   "outputs": [
    {
     "name": "stdout",
     "output_type": "stream",
     "text": [
      "[ 197917.60833333 1324715.01666667  945933.84       ...  494138.29333333\n",
      "  613869.72        395516.23333333]\n"
     ]
    }
   ],
   "source": [
    "y_pred = reg.predict(X_test)\n",
    "print(reg.predict(X_test))"
   ]
  },
  {
   "cell_type": "code",
   "execution_count": 1570,
   "id": "96e173c8",
   "metadata": {},
   "outputs": [
    {
     "name": "stdout",
     "output_type": "stream",
     "text": [
      "2450256.9878471824\n"
     ]
    }
   ],
   "source": [
    "print(np.sqrt(metrics.mean_squared_error(y_test,y_pred)))"
   ]
  },
  {
   "cell_type": "code",
   "execution_count": 1578,
   "id": "a157ec99",
   "metadata": {},
   "outputs": [
    {
     "name": "stdout",
     "output_type": "stream",
     "text": [
      "RFR: 0.4406828605492159\n"
     ]
    }
   ],
   "source": [
    "r2 = clf.score(X_test, y_test)\n",
    "print(f\"RFR: {r2}\")"
   ]
  },
  {
   "cell_type": "code",
   "execution_count": 1571,
   "id": "ff13361f",
   "metadata": {},
   "outputs": [
    {
     "data": {
      "text/plain": [
       "array([0.46835746, 0.53730154, 0.24966928, 0.51040391, 0.14112184])"
      ]
     },
     "execution_count": 1571,
     "metadata": {},
     "output_type": "execute_result"
    }
   ],
   "source": [
    "#cv_results = cross_val_score(reg,X_train, y_train, scoring='r2', cv=5)\n",
    "#cv_results"
   ]
  },
  {
   "cell_type": "code",
   "execution_count": 1576,
   "id": "798f6681",
   "metadata": {},
   "outputs": [
    {
     "data": {
      "text/plain": [
       "array([0.28555374, 0.53066357, 0.53048786, 0.57019604, 0.48369334])"
      ]
     },
     "execution_count": 1576,
     "metadata": {},
     "output_type": "execute_result"
    }
   ],
   "source": [
    "#cv_results = cross_val_score(reg,X_test, y_test, scoring='r2', cv=5)\n",
    "#cv_results"
   ]
  },
  {
   "cell_type": "code",
   "execution_count": 1577,
   "id": "7df89e3f",
   "metadata": {},
   "outputs": [
    {
     "data": {
      "text/plain": [
       "0.48011891060335865"
      ]
     },
     "execution_count": 1577,
     "metadata": {},
     "output_type": "execute_result"
    }
   ],
   "source": [
    "#np.mean(cv_results)"
   ]
  },
  {
   "cell_type": "markdown",
   "id": "1c2480d0",
   "metadata": {},
   "source": [
    "> Change Request: Test the data set with XGBoost model\n",
    "\n",
    "> Result: model score decreased  \n",
    "\n",
    "> with cross validation - np.mean() 0.47157691925726775"
   ]
  },
  {
   "cell_type": "code",
   "execution_count": 1618,
   "id": "cc4a2354",
   "metadata": {},
   "outputs": [],
   "source": [
    "from xgboost import XGBRegressor"
   ]
  },
  {
   "cell_type": "code",
   "execution_count": 1619,
   "id": "1edbdb16",
   "metadata": {},
   "outputs": [],
   "source": [
    "reg = Pipeline(steps = [('preprocessor',preprocessor),\n",
    "                       ('regressor',XGBRegressor())])"
   ]
  },
  {
   "cell_type": "code",
   "execution_count": 1620,
   "id": "21e1d79c",
   "metadata": {},
   "outputs": [],
   "source": [
    "clf = reg.fit(X_train,y_train)"
   ]
  },
  {
   "cell_type": "code",
   "execution_count": 1621,
   "id": "59931841",
   "metadata": {},
   "outputs": [
    {
     "name": "stdout",
     "output_type": "stream",
     "text": [
      "[ 321173.78 1396510.8  1100885.6  ...  479690.06  696763.3   438577.  ]\n"
     ]
    }
   ],
   "source": [
    "y_pred = reg.predict(X_test)\n",
    "print(reg.predict(X_test))"
   ]
  },
  {
   "cell_type": "code",
   "execution_count": 1622,
   "id": "ca2f5b40",
   "metadata": {},
   "outputs": [
    {
     "name": "stdout",
     "output_type": "stream",
     "text": [
      "2468855.026217997\n"
     ]
    }
   ],
   "source": [
    "print(np.sqrt(metrics.mean_squared_error(y_test,y_pred)))"
   ]
  },
  {
   "cell_type": "code",
   "execution_count": 1623,
   "id": "737709ac",
   "metadata": {
    "scrolled": true
   },
   "outputs": [
    {
     "name": "stdout",
     "output_type": "stream",
     "text": [
      "RFR: 0.4321599347698556\n"
     ]
    }
   ],
   "source": [
    "r2 = clf.score(X_test, y_test)\n",
    "print(f\"RFR: {r2}\")"
   ]
  },
  {
   "cell_type": "code",
   "execution_count": 1624,
   "id": "5123b579",
   "metadata": {},
   "outputs": [
    {
     "data": {
      "text/plain": [
       "array([0.69162643, 0.17839607, 0.33837093, 0.68466606, 0.33142284,\n",
       "       0.53399572, 0.36817372, 0.39657705, 0.4360493 , 0.75649107])"
      ]
     },
     "execution_count": 1624,
     "metadata": {},
     "output_type": "execute_result"
    }
   ],
   "source": [
    "cv_results = cross_val_score(reg,X_test, y_test, scoring='r2', cv=10)\n",
    "cv_results"
   ]
  },
  {
   "cell_type": "code",
   "execution_count": 1625,
   "id": "de5bd0f4",
   "metadata": {},
   "outputs": [
    {
     "data": {
      "text/plain": [
       "0.47157691925726775"
      ]
     },
     "execution_count": 1625,
     "metadata": {},
     "output_type": "execute_result"
    }
   ],
   "source": [
    "np.mean(cv_results)"
   ]
  },
  {
   "cell_type": "markdown",
   "id": "78754148",
   "metadata": {},
   "source": [
    "> Change Request: Test the data set with Regularization (Lasso)\n",
    "\n",
    "> Result: model score increased "
   ]
  },
  {
   "cell_type": "code",
   "execution_count": 1669,
   "id": "78fc3265",
   "metadata": {},
   "outputs": [],
   "source": [
    "from sklearn.linear_model import Lasso"
   ]
  },
  {
   "cell_type": "code",
   "execution_count": 1681,
   "id": "0d7c56c4",
   "metadata": {},
   "outputs": [],
   "source": [
    "reg = Pipeline(steps = [('preprocessor',preprocessor),\n",
    "                       ('regressor',Lasso(alpha=0.1))])"
   ]
  },
  {
   "cell_type": "code",
   "execution_count": 1682,
   "id": "00e0a726",
   "metadata": {},
   "outputs": [
    {
     "name": "stderr",
     "output_type": "stream",
     "text": [
      "/Users/kutayaydin/opt/anaconda3/lib/python3.9/site-packages/sklearn/linear_model/_coordinate_descent.py:592: ConvergenceWarning: Objective did not converge. You might want to increase the number of iterations. Duality gap: 9.483447713033734e+16, tolerance: 34724311535558.777\n",
      "  model = cd_fast.sparse_enet_coordinate_descent(\n"
     ]
    }
   ],
   "source": [
    "clf = reg.fit(X_train,y_train)"
   ]
  },
  {
   "cell_type": "code",
   "execution_count": 1683,
   "id": "219b8190",
   "metadata": {},
   "outputs": [
    {
     "name": "stdout",
     "output_type": "stream",
     "text": [
      "[ -60493.83737421 1739102.96923304 1214210.26704096 ...  374899.88712963\n",
      "  670379.93323208  257482.7403184 ]\n"
     ]
    }
   ],
   "source": [
    "y_pred = reg.predict(X_test)\n",
    "print(reg.predict(X_test))"
   ]
  },
  {
   "cell_type": "code",
   "execution_count": 1684,
   "id": "db4b4894",
   "metadata": {},
   "outputs": [
    {
     "name": "stdout",
     "output_type": "stream",
     "text": [
      "RFR: 0.5152383620162488\n"
     ]
    }
   ],
   "source": [
    "r2 = clf.score(X_test, y_test)\n",
    "print(f\"RFR: {r2}\")"
   ]
  },
  {
   "cell_type": "markdown",
   "id": "8ee0718d",
   "metadata": {},
   "source": [
    "> Change Request: Test the data set with Regularization (Ridge)\n",
    "\n",
    "> Result: model score increased "
   ]
  },
  {
   "cell_type": "code",
   "execution_count": 1689,
   "id": "bc267df1",
   "metadata": {},
   "outputs": [],
   "source": [
    "from sklearn.linear_model import Ridge"
   ]
  },
  {
   "cell_type": "code",
   "execution_count": 1690,
   "id": "04f42af6",
   "metadata": {},
   "outputs": [],
   "source": [
    "reg = Pipeline(steps = [('preprocessor',preprocessor),\n",
    "                       ('regressor',Ridge(alpha=0.1))])"
   ]
  },
  {
   "cell_type": "code",
   "execution_count": 1691,
   "id": "e3cda6be",
   "metadata": {},
   "outputs": [],
   "source": [
    "clf = reg.fit(X_train,y_train)"
   ]
  },
  {
   "cell_type": "code",
   "execution_count": 1692,
   "id": "37808110",
   "metadata": {},
   "outputs": [
    {
     "name": "stdout",
     "output_type": "stream",
     "text": [
      "[ -57596.88731657 1735075.71665429 1222732.2338102  ...  376561.84285583\n",
      "  672073.9439297   254789.68182288]\n"
     ]
    }
   ],
   "source": [
    "y_pred = reg.predict(X_test)\n",
    "print(reg.predict(X_test))"
   ]
  },
  {
   "cell_type": "code",
   "execution_count": 1693,
   "id": "932a767a",
   "metadata": {},
   "outputs": [
    {
     "name": "stdout",
     "output_type": "stream",
     "text": [
      "RFR: 0.5158031255819464\n"
     ]
    }
   ],
   "source": [
    "r2 = clf.score(X_test, y_test)\n",
    "print(f\"RFR: {r2}\")"
   ]
  },
  {
   "cell_type": "markdown",
   "id": "e69dc863",
   "metadata": {},
   "source": [
    "Test Kneighbor Regressor - Model performance significantly drops down"
   ]
  },
  {
   "cell_type": "code",
   "execution_count": 1626,
   "id": "35a9ab00",
   "metadata": {},
   "outputs": [],
   "source": [
    "clfpipe = Pipeline(steps = [('preprocessor',preprocessor),\n",
    "                       ('clf',KNeighborsRegressor(n_neighbors =3))])"
   ]
  },
  {
   "cell_type": "code",
   "execution_count": 1627,
   "id": "8dc438dc",
   "metadata": {},
   "outputs": [
    {
     "data": {
      "text/html": [
       "<style>#sk-container-id-18 {color: black;background-color: white;}#sk-container-id-18 pre{padding: 0;}#sk-container-id-18 div.sk-toggleable {background-color: white;}#sk-container-id-18 label.sk-toggleable__label {cursor: pointer;display: block;width: 100%;margin-bottom: 0;padding: 0.3em;box-sizing: border-box;text-align: center;}#sk-container-id-18 label.sk-toggleable__label-arrow:before {content: \"▸\";float: left;margin-right: 0.25em;color: #696969;}#sk-container-id-18 label.sk-toggleable__label-arrow:hover:before {color: black;}#sk-container-id-18 div.sk-estimator:hover label.sk-toggleable__label-arrow:before {color: black;}#sk-container-id-18 div.sk-toggleable__content {max-height: 0;max-width: 0;overflow: hidden;text-align: left;background-color: #f0f8ff;}#sk-container-id-18 div.sk-toggleable__content pre {margin: 0.2em;color: black;border-radius: 0.25em;background-color: #f0f8ff;}#sk-container-id-18 input.sk-toggleable__control:checked~div.sk-toggleable__content {max-height: 200px;max-width: 100%;overflow: auto;}#sk-container-id-18 input.sk-toggleable__control:checked~label.sk-toggleable__label-arrow:before {content: \"▾\";}#sk-container-id-18 div.sk-estimator input.sk-toggleable__control:checked~label.sk-toggleable__label {background-color: #d4ebff;}#sk-container-id-18 div.sk-label input.sk-toggleable__control:checked~label.sk-toggleable__label {background-color: #d4ebff;}#sk-container-id-18 input.sk-hidden--visually {border: 0;clip: rect(1px 1px 1px 1px);clip: rect(1px, 1px, 1px, 1px);height: 1px;margin: -1px;overflow: hidden;padding: 0;position: absolute;width: 1px;}#sk-container-id-18 div.sk-estimator {font-family: monospace;background-color: #f0f8ff;border: 1px dotted black;border-radius: 0.25em;box-sizing: border-box;margin-bottom: 0.5em;}#sk-container-id-18 div.sk-estimator:hover {background-color: #d4ebff;}#sk-container-id-18 div.sk-parallel-item::after {content: \"\";width: 100%;border-bottom: 1px solid gray;flex-grow: 1;}#sk-container-id-18 div.sk-label:hover label.sk-toggleable__label {background-color: #d4ebff;}#sk-container-id-18 div.sk-serial::before {content: \"\";position: absolute;border-left: 1px solid gray;box-sizing: border-box;top: 0;bottom: 0;left: 50%;z-index: 0;}#sk-container-id-18 div.sk-serial {display: flex;flex-direction: column;align-items: center;background-color: white;padding-right: 0.2em;padding-left: 0.2em;position: relative;}#sk-container-id-18 div.sk-item {position: relative;z-index: 1;}#sk-container-id-18 div.sk-parallel {display: flex;align-items: stretch;justify-content: center;background-color: white;position: relative;}#sk-container-id-18 div.sk-item::before, #sk-container-id-18 div.sk-parallel-item::before {content: \"\";position: absolute;border-left: 1px solid gray;box-sizing: border-box;top: 0;bottom: 0;left: 50%;z-index: -1;}#sk-container-id-18 div.sk-parallel-item {display: flex;flex-direction: column;z-index: 1;position: relative;background-color: white;}#sk-container-id-18 div.sk-parallel-item:first-child::after {align-self: flex-end;width: 50%;}#sk-container-id-18 div.sk-parallel-item:last-child::after {align-self: flex-start;width: 50%;}#sk-container-id-18 div.sk-parallel-item:only-child::after {width: 0;}#sk-container-id-18 div.sk-dashed-wrapped {border: 1px dashed gray;margin: 0 0.4em 0.5em 0.4em;box-sizing: border-box;padding-bottom: 0.4em;background-color: white;}#sk-container-id-18 div.sk-label label {font-family: monospace;font-weight: bold;display: inline-block;line-height: 1.2em;}#sk-container-id-18 div.sk-label-container {text-align: center;}#sk-container-id-18 div.sk-container {/* jupyter's `normalize.less` sets `[hidden] { display: none; }` but bootstrap.min.css set `[hidden] { display: none !important; }` so we also need the `!important` here to be able to override the default hidden behavior on the sphinx rendered scikit-learn.org. See: https://github.com/scikit-learn/scikit-learn/issues/21755 */display: inline-block !important;position: relative;}#sk-container-id-18 div.sk-text-repr-fallback {display: none;}</style><div id=\"sk-container-id-18\" class=\"sk-top-container\"><div class=\"sk-text-repr-fallback\"><pre>Pipeline(steps=[(&#x27;preprocessor&#x27;,\n",
       "                 ColumnTransformer(transformers=[(&#x27;num&#x27;,\n",
       "                                                  Pipeline(steps=[(&#x27;imputer&#x27;,\n",
       "                                                                   SimpleImputer()),\n",
       "                                                                  (&#x27;scaler&#x27;,\n",
       "                                                                   StandardScaler())]),\n",
       "                                                  [&#x27;TOTAL_UNITS&#x27;,\n",
       "                                                   &#x27;LAND_SQUARE_FEET&#x27;,\n",
       "                                                   &#x27;GROSS_SQUARE_FEET&#x27;, &#x27;AGE&#x27;,\n",
       "                                                   &#x27;COMMERCIAL_UNITS&#x27;,\n",
       "                                                   &#x27;RESIDENTIAL_UNITS&#x27;,\n",
       "                                                   &#x27;YEAR_BUILT&#x27;, &#x27;SALE_YEAR&#x27;]),\n",
       "                                                 (&#x27;cat&#x27;,\n",
       "                                                  Pipeline(steps=[(&#x27;imputer&#x27;,\n",
       "                                                                   SimpleImputer(strategy=&#x27;most_frequent&#x27;)),\n",
       "                                                                  (&#x27;onehot&#x27;,\n",
       "                                                                   OneHotEncoder(handle_unknown=&#x27;ignore&#x27;))]),\n",
       "                                                  [&#x27;BOROUGH&#x27;, &#x27;NEIGHBORHOOD&#x27;,\n",
       "                                                   &#x27;CAT_COMMERCIAL_UNITS&#x27;])])),\n",
       "                (&#x27;clf&#x27;, KNeighborsRegressor(n_neighbors=3))])</pre><b>In a Jupyter environment, please rerun this cell to show the HTML representation or trust the notebook. <br />On GitHub, the HTML representation is unable to render, please try loading this page with nbviewer.org.</b></div><div class=\"sk-container\" hidden><div class=\"sk-item sk-dashed-wrapped\"><div class=\"sk-label-container\"><div class=\"sk-label sk-toggleable\"><input class=\"sk-toggleable__control sk-hidden--visually\" id=\"sk-estimator-id-126\" type=\"checkbox\" ><label for=\"sk-estimator-id-126\" class=\"sk-toggleable__label sk-toggleable__label-arrow\">Pipeline</label><div class=\"sk-toggleable__content\"><pre>Pipeline(steps=[(&#x27;preprocessor&#x27;,\n",
       "                 ColumnTransformer(transformers=[(&#x27;num&#x27;,\n",
       "                                                  Pipeline(steps=[(&#x27;imputer&#x27;,\n",
       "                                                                   SimpleImputer()),\n",
       "                                                                  (&#x27;scaler&#x27;,\n",
       "                                                                   StandardScaler())]),\n",
       "                                                  [&#x27;TOTAL_UNITS&#x27;,\n",
       "                                                   &#x27;LAND_SQUARE_FEET&#x27;,\n",
       "                                                   &#x27;GROSS_SQUARE_FEET&#x27;, &#x27;AGE&#x27;,\n",
       "                                                   &#x27;COMMERCIAL_UNITS&#x27;,\n",
       "                                                   &#x27;RESIDENTIAL_UNITS&#x27;,\n",
       "                                                   &#x27;YEAR_BUILT&#x27;, &#x27;SALE_YEAR&#x27;]),\n",
       "                                                 (&#x27;cat&#x27;,\n",
       "                                                  Pipeline(steps=[(&#x27;imputer&#x27;,\n",
       "                                                                   SimpleImputer(strategy=&#x27;most_frequent&#x27;)),\n",
       "                                                                  (&#x27;onehot&#x27;,\n",
       "                                                                   OneHotEncoder(handle_unknown=&#x27;ignore&#x27;))]),\n",
       "                                                  [&#x27;BOROUGH&#x27;, &#x27;NEIGHBORHOOD&#x27;,\n",
       "                                                   &#x27;CAT_COMMERCIAL_UNITS&#x27;])])),\n",
       "                (&#x27;clf&#x27;, KNeighborsRegressor(n_neighbors=3))])</pre></div></div></div><div class=\"sk-serial\"><div class=\"sk-item sk-dashed-wrapped\"><div class=\"sk-label-container\"><div class=\"sk-label sk-toggleable\"><input class=\"sk-toggleable__control sk-hidden--visually\" id=\"sk-estimator-id-127\" type=\"checkbox\" ><label for=\"sk-estimator-id-127\" class=\"sk-toggleable__label sk-toggleable__label-arrow\">preprocessor: ColumnTransformer</label><div class=\"sk-toggleable__content\"><pre>ColumnTransformer(transformers=[(&#x27;num&#x27;,\n",
       "                                 Pipeline(steps=[(&#x27;imputer&#x27;, SimpleImputer()),\n",
       "                                                 (&#x27;scaler&#x27;, StandardScaler())]),\n",
       "                                 [&#x27;TOTAL_UNITS&#x27;, &#x27;LAND_SQUARE_FEET&#x27;,\n",
       "                                  &#x27;GROSS_SQUARE_FEET&#x27;, &#x27;AGE&#x27;,\n",
       "                                  &#x27;COMMERCIAL_UNITS&#x27;, &#x27;RESIDENTIAL_UNITS&#x27;,\n",
       "                                  &#x27;YEAR_BUILT&#x27;, &#x27;SALE_YEAR&#x27;]),\n",
       "                                (&#x27;cat&#x27;,\n",
       "                                 Pipeline(steps=[(&#x27;imputer&#x27;,\n",
       "                                                  SimpleImputer(strategy=&#x27;most_frequent&#x27;)),\n",
       "                                                 (&#x27;onehot&#x27;,\n",
       "                                                  OneHotEncoder(handle_unknown=&#x27;ignore&#x27;))]),\n",
       "                                 [&#x27;BOROUGH&#x27;, &#x27;NEIGHBORHOOD&#x27;,\n",
       "                                  &#x27;CAT_COMMERCIAL_UNITS&#x27;])])</pre></div></div></div><div class=\"sk-parallel\"><div class=\"sk-parallel-item\"><div class=\"sk-item\"><div class=\"sk-label-container\"><div class=\"sk-label sk-toggleable\"><input class=\"sk-toggleable__control sk-hidden--visually\" id=\"sk-estimator-id-128\" type=\"checkbox\" ><label for=\"sk-estimator-id-128\" class=\"sk-toggleable__label sk-toggleable__label-arrow\">num</label><div class=\"sk-toggleable__content\"><pre>[&#x27;TOTAL_UNITS&#x27;, &#x27;LAND_SQUARE_FEET&#x27;, &#x27;GROSS_SQUARE_FEET&#x27;, &#x27;AGE&#x27;, &#x27;COMMERCIAL_UNITS&#x27;, &#x27;RESIDENTIAL_UNITS&#x27;, &#x27;YEAR_BUILT&#x27;, &#x27;SALE_YEAR&#x27;]</pre></div></div></div><div class=\"sk-serial\"><div class=\"sk-item\"><div class=\"sk-serial\"><div class=\"sk-item\"><div class=\"sk-estimator sk-toggleable\"><input class=\"sk-toggleable__control sk-hidden--visually\" id=\"sk-estimator-id-129\" type=\"checkbox\" ><label for=\"sk-estimator-id-129\" class=\"sk-toggleable__label sk-toggleable__label-arrow\">SimpleImputer</label><div class=\"sk-toggleable__content\"><pre>SimpleImputer()</pre></div></div></div><div class=\"sk-item\"><div class=\"sk-estimator sk-toggleable\"><input class=\"sk-toggleable__control sk-hidden--visually\" id=\"sk-estimator-id-130\" type=\"checkbox\" ><label for=\"sk-estimator-id-130\" class=\"sk-toggleable__label sk-toggleable__label-arrow\">StandardScaler</label><div class=\"sk-toggleable__content\"><pre>StandardScaler()</pre></div></div></div></div></div></div></div></div><div class=\"sk-parallel-item\"><div class=\"sk-item\"><div class=\"sk-label-container\"><div class=\"sk-label sk-toggleable\"><input class=\"sk-toggleable__control sk-hidden--visually\" id=\"sk-estimator-id-131\" type=\"checkbox\" ><label for=\"sk-estimator-id-131\" class=\"sk-toggleable__label sk-toggleable__label-arrow\">cat</label><div class=\"sk-toggleable__content\"><pre>[&#x27;BOROUGH&#x27;, &#x27;NEIGHBORHOOD&#x27;, &#x27;CAT_COMMERCIAL_UNITS&#x27;]</pre></div></div></div><div class=\"sk-serial\"><div class=\"sk-item\"><div class=\"sk-serial\"><div class=\"sk-item\"><div class=\"sk-estimator sk-toggleable\"><input class=\"sk-toggleable__control sk-hidden--visually\" id=\"sk-estimator-id-132\" type=\"checkbox\" ><label for=\"sk-estimator-id-132\" class=\"sk-toggleable__label sk-toggleable__label-arrow\">SimpleImputer</label><div class=\"sk-toggleable__content\"><pre>SimpleImputer(strategy=&#x27;most_frequent&#x27;)</pre></div></div></div><div class=\"sk-item\"><div class=\"sk-estimator sk-toggleable\"><input class=\"sk-toggleable__control sk-hidden--visually\" id=\"sk-estimator-id-133\" type=\"checkbox\" ><label for=\"sk-estimator-id-133\" class=\"sk-toggleable__label sk-toggleable__label-arrow\">OneHotEncoder</label><div class=\"sk-toggleable__content\"><pre>OneHotEncoder(handle_unknown=&#x27;ignore&#x27;)</pre></div></div></div></div></div></div></div></div></div></div><div class=\"sk-item\"><div class=\"sk-estimator sk-toggleable\"><input class=\"sk-toggleable__control sk-hidden--visually\" id=\"sk-estimator-id-134\" type=\"checkbox\" ><label for=\"sk-estimator-id-134\" class=\"sk-toggleable__label sk-toggleable__label-arrow\">KNeighborsRegressor</label><div class=\"sk-toggleable__content\"><pre>KNeighborsRegressor(n_neighbors=3)</pre></div></div></div></div></div></div></div>"
      ],
      "text/plain": [
       "Pipeline(steps=[('preprocessor',\n",
       "                 ColumnTransformer(transformers=[('num',\n",
       "                                                  Pipeline(steps=[('imputer',\n",
       "                                                                   SimpleImputer()),\n",
       "                                                                  ('scaler',\n",
       "                                                                   StandardScaler())]),\n",
       "                                                  ['TOTAL_UNITS',\n",
       "                                                   'LAND_SQUARE_FEET',\n",
       "                                                   'GROSS_SQUARE_FEET', 'AGE',\n",
       "                                                   'COMMERCIAL_UNITS',\n",
       "                                                   'RESIDENTIAL_UNITS',\n",
       "                                                   'YEAR_BUILT', 'SALE_YEAR']),\n",
       "                                                 ('cat',\n",
       "                                                  Pipeline(steps=[('imputer',\n",
       "                                                                   SimpleImputer(strategy='most_frequent')),\n",
       "                                                                  ('onehot',\n",
       "                                                                   OneHotEncoder(handle_unknown='ignore'))]),\n",
       "                                                  ['BOROUGH', 'NEIGHBORHOOD',\n",
       "                                                   'CAT_COMMERCIAL_UNITS'])])),\n",
       "                ('clf', KNeighborsRegressor(n_neighbors=3))])"
      ]
     },
     "execution_count": 1627,
     "metadata": {},
     "output_type": "execute_result"
    }
   ],
   "source": [
    "clfpipe.fit(X_train,y_train)"
   ]
  },
  {
   "cell_type": "code",
   "execution_count": 1628,
   "id": "01e26ea8",
   "metadata": {
    "scrolled": true
   },
   "outputs": [
    {
     "data": {
      "text/plain": [
       "array([ 388500.        , 1204000.        ,  982833.33333333, ...,\n",
       "        470000.        ,  865175.66666667,  483000.        ])"
      ]
     },
     "execution_count": 1628,
     "metadata": {},
     "output_type": "execute_result"
    }
   ],
   "source": [
    "clfpipe.predict(X_test)"
   ]
  },
  {
   "cell_type": "code",
   "execution_count": 1635,
   "id": "3eb7e0a7",
   "metadata": {},
   "outputs": [
    {
     "name": "stdout",
     "output_type": "stream",
     "text": [
      "RFR: 0.31578102525802576\n"
     ]
    }
   ],
   "source": [
    "r2 = clfpipe.score(X_test, y_test)\n",
    "print(f\"RFR: {r2}\")"
   ]
  },
  {
   "cell_type": "markdown",
   "id": "631342fe",
   "metadata": {},
   "source": [
    "# CODING ENDS HERE"
   ]
  },
  {
   "cell_type": "markdown",
   "id": "949383a0",
   "metadata": {},
   "source": [
    "Used a lot of resources to calculate- Commented out"
   ]
  },
  {
   "cell_type": "code",
   "execution_count": 1630,
   "id": "9e8e0465",
   "metadata": {},
   "outputs": [
    {
     "data": {
      "text/html": [
       "<style>#sk-container-id-19 {color: black;background-color: white;}#sk-container-id-19 pre{padding: 0;}#sk-container-id-19 div.sk-toggleable {background-color: white;}#sk-container-id-19 label.sk-toggleable__label {cursor: pointer;display: block;width: 100%;margin-bottom: 0;padding: 0.3em;box-sizing: border-box;text-align: center;}#sk-container-id-19 label.sk-toggleable__label-arrow:before {content: \"▸\";float: left;margin-right: 0.25em;color: #696969;}#sk-container-id-19 label.sk-toggleable__label-arrow:hover:before {color: black;}#sk-container-id-19 div.sk-estimator:hover label.sk-toggleable__label-arrow:before {color: black;}#sk-container-id-19 div.sk-toggleable__content {max-height: 0;max-width: 0;overflow: hidden;text-align: left;background-color: #f0f8ff;}#sk-container-id-19 div.sk-toggleable__content pre {margin: 0.2em;color: black;border-radius: 0.25em;background-color: #f0f8ff;}#sk-container-id-19 input.sk-toggleable__control:checked~div.sk-toggleable__content {max-height: 200px;max-width: 100%;overflow: auto;}#sk-container-id-19 input.sk-toggleable__control:checked~label.sk-toggleable__label-arrow:before {content: \"▾\";}#sk-container-id-19 div.sk-estimator input.sk-toggleable__control:checked~label.sk-toggleable__label {background-color: #d4ebff;}#sk-container-id-19 div.sk-label input.sk-toggleable__control:checked~label.sk-toggleable__label {background-color: #d4ebff;}#sk-container-id-19 input.sk-hidden--visually {border: 0;clip: rect(1px 1px 1px 1px);clip: rect(1px, 1px, 1px, 1px);height: 1px;margin: -1px;overflow: hidden;padding: 0;position: absolute;width: 1px;}#sk-container-id-19 div.sk-estimator {font-family: monospace;background-color: #f0f8ff;border: 1px dotted black;border-radius: 0.25em;box-sizing: border-box;margin-bottom: 0.5em;}#sk-container-id-19 div.sk-estimator:hover {background-color: #d4ebff;}#sk-container-id-19 div.sk-parallel-item::after {content: \"\";width: 100%;border-bottom: 1px solid gray;flex-grow: 1;}#sk-container-id-19 div.sk-label:hover label.sk-toggleable__label {background-color: #d4ebff;}#sk-container-id-19 div.sk-serial::before {content: \"\";position: absolute;border-left: 1px solid gray;box-sizing: border-box;top: 0;bottom: 0;left: 50%;z-index: 0;}#sk-container-id-19 div.sk-serial {display: flex;flex-direction: column;align-items: center;background-color: white;padding-right: 0.2em;padding-left: 0.2em;position: relative;}#sk-container-id-19 div.sk-item {position: relative;z-index: 1;}#sk-container-id-19 div.sk-parallel {display: flex;align-items: stretch;justify-content: center;background-color: white;position: relative;}#sk-container-id-19 div.sk-item::before, #sk-container-id-19 div.sk-parallel-item::before {content: \"\";position: absolute;border-left: 1px solid gray;box-sizing: border-box;top: 0;bottom: 0;left: 50%;z-index: -1;}#sk-container-id-19 div.sk-parallel-item {display: flex;flex-direction: column;z-index: 1;position: relative;background-color: white;}#sk-container-id-19 div.sk-parallel-item:first-child::after {align-self: flex-end;width: 50%;}#sk-container-id-19 div.sk-parallel-item:last-child::after {align-self: flex-start;width: 50%;}#sk-container-id-19 div.sk-parallel-item:only-child::after {width: 0;}#sk-container-id-19 div.sk-dashed-wrapped {border: 1px dashed gray;margin: 0 0.4em 0.5em 0.4em;box-sizing: border-box;padding-bottom: 0.4em;background-color: white;}#sk-container-id-19 div.sk-label label {font-family: monospace;font-weight: bold;display: inline-block;line-height: 1.2em;}#sk-container-id-19 div.sk-label-container {text-align: center;}#sk-container-id-19 div.sk-container {/* jupyter's `normalize.less` sets `[hidden] { display: none; }` but bootstrap.min.css set `[hidden] { display: none !important; }` so we also need the `!important` here to be able to override the default hidden behavior on the sphinx rendered scikit-learn.org. See: https://github.com/scikit-learn/scikit-learn/issues/21755 */display: inline-block !important;position: relative;}#sk-container-id-19 div.sk-text-repr-fallback {display: none;}</style><div id=\"sk-container-id-19\" class=\"sk-top-container\"><div class=\"sk-text-repr-fallback\"><pre>SimpleImputer()</pre><b>In a Jupyter environment, please rerun this cell to show the HTML representation or trust the notebook. <br />On GitHub, the HTML representation is unable to render, please try loading this page with nbviewer.org.</b></div><div class=\"sk-container\" hidden><div class=\"sk-item\"><div class=\"sk-estimator sk-toggleable\"><input class=\"sk-toggleable__control sk-hidden--visually\" id=\"sk-estimator-id-135\" type=\"checkbox\" checked><label for=\"sk-estimator-id-135\" class=\"sk-toggleable__label sk-toggleable__label-arrow\">SimpleImputer</label><div class=\"sk-toggleable__content\"><pre>SimpleImputer()</pre></div></div></div></div></div>"
      ],
      "text/plain": [
       "SimpleImputer()"
      ]
     },
     "execution_count": 1630,
     "metadata": {},
     "output_type": "execute_result"
    }
   ],
   "source": [
    "preprocessor.transformers_[0][1][0]"
   ]
  },
  {
   "cell_type": "code",
   "execution_count": 1631,
   "id": "7f82d34d",
   "metadata": {},
   "outputs": [],
   "source": [
    "#param_grid = {'preprocessor__num__imputer__strategy':['mean','median'],\n",
    "#              'clf__n_neighbors':np.arange(1,5,2)}"
   ]
  },
  {
   "cell_type": "code",
   "execution_count": 1632,
   "id": "8a8e39a0",
   "metadata": {},
   "outputs": [],
   "source": [
    "#param_grid = {'clf__n_neighbors':np.arange(1,5,2)}"
   ]
  },
  {
   "cell_type": "code",
   "execution_count": 1633,
   "id": "9d5a06ee",
   "metadata": {},
   "outputs": [],
   "source": [
    "#grid_search = GridSearchCV(clfpipe,param_grid,scoring ='accuracy', cv=5)"
   ]
  },
  {
   "cell_type": "code",
   "execution_count": 1634,
   "id": "bdd70b1d",
   "metadata": {},
   "outputs": [
    {
     "name": "stderr",
     "output_type": "stream",
     "text": [
      "/Users/kutayaydin/opt/anaconda3/lib/python3.9/site-packages/sklearn/model_selection/_validation.py:778: UserWarning: Scoring failed. The score on this train-test partition for these parameters will be set to nan. Details: \n",
      "Traceback (most recent call last):\n",
      "  File \"/Users/kutayaydin/opt/anaconda3/lib/python3.9/site-packages/sklearn/model_selection/_validation.py\", line 767, in _score\n",
      "    scores = scorer(estimator, X_test, y_test)\n",
      "  File \"/Users/kutayaydin/opt/anaconda3/lib/python3.9/site-packages/sklearn/metrics/_scorer.py\", line 234, in __call__\n",
      "    return self._score(\n",
      "  File \"/Users/kutayaydin/opt/anaconda3/lib/python3.9/site-packages/sklearn/metrics/_scorer.py\", line 282, in _score\n",
      "    return self._sign * self._score_func(y_true, y_pred, **self._kwargs)\n",
      "  File \"/Users/kutayaydin/opt/anaconda3/lib/python3.9/site-packages/sklearn/utils/_param_validation.py\", line 192, in wrapper\n",
      "    return func(*args, **kwargs)\n",
      "  File \"/Users/kutayaydin/opt/anaconda3/lib/python3.9/site-packages/sklearn/metrics/_classification.py\", line 221, in accuracy_score\n",
      "    y_type, y_true, y_pred = _check_targets(y_true, y_pred)\n",
      "  File \"/Users/kutayaydin/opt/anaconda3/lib/python3.9/site-packages/sklearn/metrics/_classification.py\", line 95, in _check_targets\n",
      "    raise ValueError(\n",
      "ValueError: Classification metrics can't handle a mix of multiclass and continuous targets\n",
      "\n",
      "  warnings.warn(\n",
      "/Users/kutayaydin/opt/anaconda3/lib/python3.9/site-packages/sklearn/model_selection/_validation.py:778: UserWarning: Scoring failed. The score on this train-test partition for these parameters will be set to nan. Details: \n",
      "Traceback (most recent call last):\n",
      "  File \"/Users/kutayaydin/opt/anaconda3/lib/python3.9/site-packages/sklearn/model_selection/_validation.py\", line 767, in _score\n",
      "    scores = scorer(estimator, X_test, y_test)\n",
      "  File \"/Users/kutayaydin/opt/anaconda3/lib/python3.9/site-packages/sklearn/metrics/_scorer.py\", line 234, in __call__\n",
      "    return self._score(\n",
      "  File \"/Users/kutayaydin/opt/anaconda3/lib/python3.9/site-packages/sklearn/metrics/_scorer.py\", line 282, in _score\n",
      "    return self._sign * self._score_func(y_true, y_pred, **self._kwargs)\n",
      "  File \"/Users/kutayaydin/opt/anaconda3/lib/python3.9/site-packages/sklearn/utils/_param_validation.py\", line 192, in wrapper\n",
      "    return func(*args, **kwargs)\n",
      "  File \"/Users/kutayaydin/opt/anaconda3/lib/python3.9/site-packages/sklearn/metrics/_classification.py\", line 221, in accuracy_score\n",
      "    y_type, y_true, y_pred = _check_targets(y_true, y_pred)\n",
      "  File \"/Users/kutayaydin/opt/anaconda3/lib/python3.9/site-packages/sklearn/metrics/_classification.py\", line 95, in _check_targets\n",
      "    raise ValueError(\n",
      "ValueError: Classification metrics can't handle a mix of multiclass and continuous targets\n",
      "\n",
      "  warnings.warn(\n",
      "/Users/kutayaydin/opt/anaconda3/lib/python3.9/site-packages/sklearn/model_selection/_validation.py:778: UserWarning: Scoring failed. The score on this train-test partition for these parameters will be set to nan. Details: \n",
      "Traceback (most recent call last):\n",
      "  File \"/Users/kutayaydin/opt/anaconda3/lib/python3.9/site-packages/sklearn/model_selection/_validation.py\", line 767, in _score\n",
      "    scores = scorer(estimator, X_test, y_test)\n",
      "  File \"/Users/kutayaydin/opt/anaconda3/lib/python3.9/site-packages/sklearn/metrics/_scorer.py\", line 234, in __call__\n",
      "    return self._score(\n",
      "  File \"/Users/kutayaydin/opt/anaconda3/lib/python3.9/site-packages/sklearn/metrics/_scorer.py\", line 282, in _score\n",
      "    return self._sign * self._score_func(y_true, y_pred, **self._kwargs)\n",
      "  File \"/Users/kutayaydin/opt/anaconda3/lib/python3.9/site-packages/sklearn/utils/_param_validation.py\", line 192, in wrapper\n",
      "    return func(*args, **kwargs)\n",
      "  File \"/Users/kutayaydin/opt/anaconda3/lib/python3.9/site-packages/sklearn/metrics/_classification.py\", line 221, in accuracy_score\n",
      "    y_type, y_true, y_pred = _check_targets(y_true, y_pred)\n",
      "  File \"/Users/kutayaydin/opt/anaconda3/lib/python3.9/site-packages/sklearn/metrics/_classification.py\", line 95, in _check_targets\n",
      "    raise ValueError(\n",
      "ValueError: Classification metrics can't handle a mix of multiclass and continuous targets\n",
      "\n",
      "  warnings.warn(\n",
      "/Users/kutayaydin/opt/anaconda3/lib/python3.9/site-packages/sklearn/model_selection/_validation.py:778: UserWarning: Scoring failed. The score on this train-test partition for these parameters will be set to nan. Details: \n",
      "Traceback (most recent call last):\n",
      "  File \"/Users/kutayaydin/opt/anaconda3/lib/python3.9/site-packages/sklearn/model_selection/_validation.py\", line 767, in _score\n",
      "    scores = scorer(estimator, X_test, y_test)\n",
      "  File \"/Users/kutayaydin/opt/anaconda3/lib/python3.9/site-packages/sklearn/metrics/_scorer.py\", line 234, in __call__\n",
      "    return self._score(\n",
      "  File \"/Users/kutayaydin/opt/anaconda3/lib/python3.9/site-packages/sklearn/metrics/_scorer.py\", line 282, in _score\n",
      "    return self._sign * self._score_func(y_true, y_pred, **self._kwargs)\n",
      "  File \"/Users/kutayaydin/opt/anaconda3/lib/python3.9/site-packages/sklearn/utils/_param_validation.py\", line 192, in wrapper\n",
      "    return func(*args, **kwargs)\n",
      "  File \"/Users/kutayaydin/opt/anaconda3/lib/python3.9/site-packages/sklearn/metrics/_classification.py\", line 221, in accuracy_score\n",
      "    y_type, y_true, y_pred = _check_targets(y_true, y_pred)\n",
      "  File \"/Users/kutayaydin/opt/anaconda3/lib/python3.9/site-packages/sklearn/metrics/_classification.py\", line 95, in _check_targets\n",
      "    raise ValueError(\n",
      "ValueError: Classification metrics can't handle a mix of multiclass and continuous targets\n",
      "\n",
      "  warnings.warn(\n",
      "/Users/kutayaydin/opt/anaconda3/lib/python3.9/site-packages/sklearn/model_selection/_validation.py:778: UserWarning: Scoring failed. The score on this train-test partition for these parameters will be set to nan. Details: \n",
      "Traceback (most recent call last):\n",
      "  File \"/Users/kutayaydin/opt/anaconda3/lib/python3.9/site-packages/sklearn/model_selection/_validation.py\", line 767, in _score\n",
      "    scores = scorer(estimator, X_test, y_test)\n",
      "  File \"/Users/kutayaydin/opt/anaconda3/lib/python3.9/site-packages/sklearn/metrics/_scorer.py\", line 234, in __call__\n",
      "    return self._score(\n",
      "  File \"/Users/kutayaydin/opt/anaconda3/lib/python3.9/site-packages/sklearn/metrics/_scorer.py\", line 282, in _score\n",
      "    return self._sign * self._score_func(y_true, y_pred, **self._kwargs)\n",
      "  File \"/Users/kutayaydin/opt/anaconda3/lib/python3.9/site-packages/sklearn/utils/_param_validation.py\", line 192, in wrapper\n",
      "    return func(*args, **kwargs)\n",
      "  File \"/Users/kutayaydin/opt/anaconda3/lib/python3.9/site-packages/sklearn/metrics/_classification.py\", line 221, in accuracy_score\n",
      "    y_type, y_true, y_pred = _check_targets(y_true, y_pred)\n",
      "  File \"/Users/kutayaydin/opt/anaconda3/lib/python3.9/site-packages/sklearn/metrics/_classification.py\", line 95, in _check_targets\n",
      "    raise ValueError(\n",
      "ValueError: Classification metrics can't handle a mix of multiclass and continuous targets\n",
      "\n",
      "  warnings.warn(\n",
      "/Users/kutayaydin/opt/anaconda3/lib/python3.9/site-packages/sklearn/model_selection/_validation.py:778: UserWarning: Scoring failed. The score on this train-test partition for these parameters will be set to nan. Details: \n",
      "Traceback (most recent call last):\n",
      "  File \"/Users/kutayaydin/opt/anaconda3/lib/python3.9/site-packages/sklearn/model_selection/_validation.py\", line 767, in _score\n",
      "    scores = scorer(estimator, X_test, y_test)\n",
      "  File \"/Users/kutayaydin/opt/anaconda3/lib/python3.9/site-packages/sklearn/metrics/_scorer.py\", line 234, in __call__\n",
      "    return self._score(\n",
      "  File \"/Users/kutayaydin/opt/anaconda3/lib/python3.9/site-packages/sklearn/metrics/_scorer.py\", line 282, in _score\n",
      "    return self._sign * self._score_func(y_true, y_pred, **self._kwargs)\n",
      "  File \"/Users/kutayaydin/opt/anaconda3/lib/python3.9/site-packages/sklearn/utils/_param_validation.py\", line 192, in wrapper\n",
      "    return func(*args, **kwargs)\n",
      "  File \"/Users/kutayaydin/opt/anaconda3/lib/python3.9/site-packages/sklearn/metrics/_classification.py\", line 221, in accuracy_score\n",
      "    y_type, y_true, y_pred = _check_targets(y_true, y_pred)\n",
      "  File \"/Users/kutayaydin/opt/anaconda3/lib/python3.9/site-packages/sklearn/metrics/_classification.py\", line 95, in _check_targets\n",
      "    raise ValueError(\n",
      "ValueError: Classification metrics can't handle a mix of multiclass and continuous targets\n",
      "\n",
      "  warnings.warn(\n"
     ]
    },
    {
     "name": "stderr",
     "output_type": "stream",
     "text": [
      "/Users/kutayaydin/opt/anaconda3/lib/python3.9/site-packages/sklearn/model_selection/_validation.py:778: UserWarning: Scoring failed. The score on this train-test partition for these parameters will be set to nan. Details: \n",
      "Traceback (most recent call last):\n",
      "  File \"/Users/kutayaydin/opt/anaconda3/lib/python3.9/site-packages/sklearn/model_selection/_validation.py\", line 767, in _score\n",
      "    scores = scorer(estimator, X_test, y_test)\n",
      "  File \"/Users/kutayaydin/opt/anaconda3/lib/python3.9/site-packages/sklearn/metrics/_scorer.py\", line 234, in __call__\n",
      "    return self._score(\n",
      "  File \"/Users/kutayaydin/opt/anaconda3/lib/python3.9/site-packages/sklearn/metrics/_scorer.py\", line 282, in _score\n",
      "    return self._sign * self._score_func(y_true, y_pred, **self._kwargs)\n",
      "  File \"/Users/kutayaydin/opt/anaconda3/lib/python3.9/site-packages/sklearn/utils/_param_validation.py\", line 192, in wrapper\n",
      "    return func(*args, **kwargs)\n",
      "  File \"/Users/kutayaydin/opt/anaconda3/lib/python3.9/site-packages/sklearn/metrics/_classification.py\", line 221, in accuracy_score\n",
      "    y_type, y_true, y_pred = _check_targets(y_true, y_pred)\n",
      "  File \"/Users/kutayaydin/opt/anaconda3/lib/python3.9/site-packages/sklearn/metrics/_classification.py\", line 95, in _check_targets\n",
      "    raise ValueError(\n",
      "ValueError: Classification metrics can't handle a mix of multiclass and continuous targets\n",
      "\n",
      "  warnings.warn(\n",
      "/Users/kutayaydin/opt/anaconda3/lib/python3.9/site-packages/sklearn/model_selection/_validation.py:778: UserWarning: Scoring failed. The score on this train-test partition for these parameters will be set to nan. Details: \n",
      "Traceback (most recent call last):\n",
      "  File \"/Users/kutayaydin/opt/anaconda3/lib/python3.9/site-packages/sklearn/model_selection/_validation.py\", line 767, in _score\n",
      "    scores = scorer(estimator, X_test, y_test)\n",
      "  File \"/Users/kutayaydin/opt/anaconda3/lib/python3.9/site-packages/sklearn/metrics/_scorer.py\", line 234, in __call__\n",
      "    return self._score(\n",
      "  File \"/Users/kutayaydin/opt/anaconda3/lib/python3.9/site-packages/sklearn/metrics/_scorer.py\", line 282, in _score\n",
      "    return self._sign * self._score_func(y_true, y_pred, **self._kwargs)\n",
      "  File \"/Users/kutayaydin/opt/anaconda3/lib/python3.9/site-packages/sklearn/utils/_param_validation.py\", line 192, in wrapper\n",
      "    return func(*args, **kwargs)\n",
      "  File \"/Users/kutayaydin/opt/anaconda3/lib/python3.9/site-packages/sklearn/metrics/_classification.py\", line 221, in accuracy_score\n",
      "    y_type, y_true, y_pred = _check_targets(y_true, y_pred)\n",
      "  File \"/Users/kutayaydin/opt/anaconda3/lib/python3.9/site-packages/sklearn/metrics/_classification.py\", line 95, in _check_targets\n",
      "    raise ValueError(\n",
      "ValueError: Classification metrics can't handle a mix of multiclass and continuous targets\n",
      "\n",
      "  warnings.warn(\n",
      "/Users/kutayaydin/opt/anaconda3/lib/python3.9/site-packages/sklearn/model_selection/_validation.py:778: UserWarning: Scoring failed. The score on this train-test partition for these parameters will be set to nan. Details: \n",
      "Traceback (most recent call last):\n",
      "  File \"/Users/kutayaydin/opt/anaconda3/lib/python3.9/site-packages/sklearn/model_selection/_validation.py\", line 767, in _score\n",
      "    scores = scorer(estimator, X_test, y_test)\n",
      "  File \"/Users/kutayaydin/opt/anaconda3/lib/python3.9/site-packages/sklearn/metrics/_scorer.py\", line 234, in __call__\n",
      "    return self._score(\n",
      "  File \"/Users/kutayaydin/opt/anaconda3/lib/python3.9/site-packages/sklearn/metrics/_scorer.py\", line 282, in _score\n",
      "    return self._sign * self._score_func(y_true, y_pred, **self._kwargs)\n",
      "  File \"/Users/kutayaydin/opt/anaconda3/lib/python3.9/site-packages/sklearn/utils/_param_validation.py\", line 192, in wrapper\n",
      "    return func(*args, **kwargs)\n",
      "  File \"/Users/kutayaydin/opt/anaconda3/lib/python3.9/site-packages/sklearn/metrics/_classification.py\", line 221, in accuracy_score\n",
      "    y_type, y_true, y_pred = _check_targets(y_true, y_pred)\n",
      "  File \"/Users/kutayaydin/opt/anaconda3/lib/python3.9/site-packages/sklearn/metrics/_classification.py\", line 95, in _check_targets\n",
      "    raise ValueError(\n",
      "ValueError: Classification metrics can't handle a mix of multiclass and continuous targets\n",
      "\n",
      "  warnings.warn(\n",
      "/Users/kutayaydin/opt/anaconda3/lib/python3.9/site-packages/sklearn/model_selection/_validation.py:778: UserWarning: Scoring failed. The score on this train-test partition for these parameters will be set to nan. Details: \n",
      "Traceback (most recent call last):\n",
      "  File \"/Users/kutayaydin/opt/anaconda3/lib/python3.9/site-packages/sklearn/model_selection/_validation.py\", line 767, in _score\n",
      "    scores = scorer(estimator, X_test, y_test)\n",
      "  File \"/Users/kutayaydin/opt/anaconda3/lib/python3.9/site-packages/sklearn/metrics/_scorer.py\", line 234, in __call__\n",
      "    return self._score(\n",
      "  File \"/Users/kutayaydin/opt/anaconda3/lib/python3.9/site-packages/sklearn/metrics/_scorer.py\", line 282, in _score\n",
      "    return self._sign * self._score_func(y_true, y_pred, **self._kwargs)\n",
      "  File \"/Users/kutayaydin/opt/anaconda3/lib/python3.9/site-packages/sklearn/utils/_param_validation.py\", line 192, in wrapper\n",
      "    return func(*args, **kwargs)\n",
      "  File \"/Users/kutayaydin/opt/anaconda3/lib/python3.9/site-packages/sklearn/metrics/_classification.py\", line 221, in accuracy_score\n",
      "    y_type, y_true, y_pred = _check_targets(y_true, y_pred)\n",
      "  File \"/Users/kutayaydin/opt/anaconda3/lib/python3.9/site-packages/sklearn/metrics/_classification.py\", line 95, in _check_targets\n",
      "    raise ValueError(\n",
      "ValueError: Classification metrics can't handle a mix of multiclass and continuous targets\n",
      "\n",
      "  warnings.warn(\n",
      "/Users/kutayaydin/opt/anaconda3/lib/python3.9/site-packages/sklearn/model_selection/_search.py:952: UserWarning: One or more of the test scores are non-finite: [0.01918542 0.01918542        nan        nan]\n",
      "  warnings.warn(\n"
     ]
    },
    {
     "data": {
      "text/html": [
       "<style>#sk-container-id-20 {color: black;background-color: white;}#sk-container-id-20 pre{padding: 0;}#sk-container-id-20 div.sk-toggleable {background-color: white;}#sk-container-id-20 label.sk-toggleable__label {cursor: pointer;display: block;width: 100%;margin-bottom: 0;padding: 0.3em;box-sizing: border-box;text-align: center;}#sk-container-id-20 label.sk-toggleable__label-arrow:before {content: \"▸\";float: left;margin-right: 0.25em;color: #696969;}#sk-container-id-20 label.sk-toggleable__label-arrow:hover:before {color: black;}#sk-container-id-20 div.sk-estimator:hover label.sk-toggleable__label-arrow:before {color: black;}#sk-container-id-20 div.sk-toggleable__content {max-height: 0;max-width: 0;overflow: hidden;text-align: left;background-color: #f0f8ff;}#sk-container-id-20 div.sk-toggleable__content pre {margin: 0.2em;color: black;border-radius: 0.25em;background-color: #f0f8ff;}#sk-container-id-20 input.sk-toggleable__control:checked~div.sk-toggleable__content {max-height: 200px;max-width: 100%;overflow: auto;}#sk-container-id-20 input.sk-toggleable__control:checked~label.sk-toggleable__label-arrow:before {content: \"▾\";}#sk-container-id-20 div.sk-estimator input.sk-toggleable__control:checked~label.sk-toggleable__label {background-color: #d4ebff;}#sk-container-id-20 div.sk-label input.sk-toggleable__control:checked~label.sk-toggleable__label {background-color: #d4ebff;}#sk-container-id-20 input.sk-hidden--visually {border: 0;clip: rect(1px 1px 1px 1px);clip: rect(1px, 1px, 1px, 1px);height: 1px;margin: -1px;overflow: hidden;padding: 0;position: absolute;width: 1px;}#sk-container-id-20 div.sk-estimator {font-family: monospace;background-color: #f0f8ff;border: 1px dotted black;border-radius: 0.25em;box-sizing: border-box;margin-bottom: 0.5em;}#sk-container-id-20 div.sk-estimator:hover {background-color: #d4ebff;}#sk-container-id-20 div.sk-parallel-item::after {content: \"\";width: 100%;border-bottom: 1px solid gray;flex-grow: 1;}#sk-container-id-20 div.sk-label:hover label.sk-toggleable__label {background-color: #d4ebff;}#sk-container-id-20 div.sk-serial::before {content: \"\";position: absolute;border-left: 1px solid gray;box-sizing: border-box;top: 0;bottom: 0;left: 50%;z-index: 0;}#sk-container-id-20 div.sk-serial {display: flex;flex-direction: column;align-items: center;background-color: white;padding-right: 0.2em;padding-left: 0.2em;position: relative;}#sk-container-id-20 div.sk-item {position: relative;z-index: 1;}#sk-container-id-20 div.sk-parallel {display: flex;align-items: stretch;justify-content: center;background-color: white;position: relative;}#sk-container-id-20 div.sk-item::before, #sk-container-id-20 div.sk-parallel-item::before {content: \"\";position: absolute;border-left: 1px solid gray;box-sizing: border-box;top: 0;bottom: 0;left: 50%;z-index: -1;}#sk-container-id-20 div.sk-parallel-item {display: flex;flex-direction: column;z-index: 1;position: relative;background-color: white;}#sk-container-id-20 div.sk-parallel-item:first-child::after {align-self: flex-end;width: 50%;}#sk-container-id-20 div.sk-parallel-item:last-child::after {align-self: flex-start;width: 50%;}#sk-container-id-20 div.sk-parallel-item:only-child::after {width: 0;}#sk-container-id-20 div.sk-dashed-wrapped {border: 1px dashed gray;margin: 0 0.4em 0.5em 0.4em;box-sizing: border-box;padding-bottom: 0.4em;background-color: white;}#sk-container-id-20 div.sk-label label {font-family: monospace;font-weight: bold;display: inline-block;line-height: 1.2em;}#sk-container-id-20 div.sk-label-container {text-align: center;}#sk-container-id-20 div.sk-container {/* jupyter's `normalize.less` sets `[hidden] { display: none; }` but bootstrap.min.css set `[hidden] { display: none !important; }` so we also need the `!important` here to be able to override the default hidden behavior on the sphinx rendered scikit-learn.org. See: https://github.com/scikit-learn/scikit-learn/issues/21755 */display: inline-block !important;position: relative;}#sk-container-id-20 div.sk-text-repr-fallback {display: none;}</style><div id=\"sk-container-id-20\" class=\"sk-top-container\"><div class=\"sk-text-repr-fallback\"><pre>GridSearchCV(cv=5,\n",
       "             estimator=Pipeline(steps=[(&#x27;preprocessor&#x27;,\n",
       "                                        ColumnTransformer(transformers=[(&#x27;num&#x27;,\n",
       "                                                                         Pipeline(steps=[(&#x27;imputer&#x27;,\n",
       "                                                                                          SimpleImputer()),\n",
       "                                                                                         (&#x27;scaler&#x27;,\n",
       "                                                                                          StandardScaler())]),\n",
       "                                                                         [&#x27;TOTAL_UNITS&#x27;,\n",
       "                                                                          &#x27;LAND_SQUARE_FEET&#x27;,\n",
       "                                                                          &#x27;GROSS_SQUARE_FEET&#x27;,\n",
       "                                                                          &#x27;AGE&#x27;,\n",
       "                                                                          &#x27;COMMERCIAL_UNITS&#x27;,\n",
       "                                                                          &#x27;RESIDENTIAL_UNITS&#x27;,\n",
       "                                                                          &#x27;YEAR_BUILT&#x27;,\n",
       "                                                                          &#x27;SALE_YEAR&#x27;]),\n",
       "                                                                        (&#x27;cat&#x27;,\n",
       "                                                                         Pipeline(steps=[(&#x27;imputer&#x27;,\n",
       "                                                                                          SimpleImputer(strategy=&#x27;most_frequent&#x27;)),\n",
       "                                                                                         (&#x27;onehot&#x27;,\n",
       "                                                                                          OneHotEncoder(handle_unknown=&#x27;ignore&#x27;))]),\n",
       "                                                                         [&#x27;BOROUGH&#x27;,\n",
       "                                                                          &#x27;NEIGHBORHOOD&#x27;,\n",
       "                                                                          &#x27;CAT_COMMERCIAL_UNITS&#x27;])])),\n",
       "                                       (&#x27;clf&#x27;,\n",
       "                                        KNeighborsRegressor(n_neighbors=3))]),\n",
       "             param_grid={&#x27;clf__n_neighbors&#x27;: array([1, 3]),\n",
       "                         &#x27;preprocessor__num__imputer__strategy&#x27;: [&#x27;mean&#x27;,\n",
       "                                                                  &#x27;median&#x27;]},\n",
       "             scoring=&#x27;accuracy&#x27;)</pre><b>In a Jupyter environment, please rerun this cell to show the HTML representation or trust the notebook. <br />On GitHub, the HTML representation is unable to render, please try loading this page with nbviewer.org.</b></div><div class=\"sk-container\" hidden><div class=\"sk-item sk-dashed-wrapped\"><div class=\"sk-label-container\"><div class=\"sk-label sk-toggleable\"><input class=\"sk-toggleable__control sk-hidden--visually\" id=\"sk-estimator-id-136\" type=\"checkbox\" ><label for=\"sk-estimator-id-136\" class=\"sk-toggleable__label sk-toggleable__label-arrow\">GridSearchCV</label><div class=\"sk-toggleable__content\"><pre>GridSearchCV(cv=5,\n",
       "             estimator=Pipeline(steps=[(&#x27;preprocessor&#x27;,\n",
       "                                        ColumnTransformer(transformers=[(&#x27;num&#x27;,\n",
       "                                                                         Pipeline(steps=[(&#x27;imputer&#x27;,\n",
       "                                                                                          SimpleImputer()),\n",
       "                                                                                         (&#x27;scaler&#x27;,\n",
       "                                                                                          StandardScaler())]),\n",
       "                                                                         [&#x27;TOTAL_UNITS&#x27;,\n",
       "                                                                          &#x27;LAND_SQUARE_FEET&#x27;,\n",
       "                                                                          &#x27;GROSS_SQUARE_FEET&#x27;,\n",
       "                                                                          &#x27;AGE&#x27;,\n",
       "                                                                          &#x27;COMMERCIAL_UNITS&#x27;,\n",
       "                                                                          &#x27;RESIDENTIAL_UNITS&#x27;,\n",
       "                                                                          &#x27;YEAR_BUILT&#x27;,\n",
       "                                                                          &#x27;SALE_YEAR&#x27;]),\n",
       "                                                                        (&#x27;cat&#x27;,\n",
       "                                                                         Pipeline(steps=[(&#x27;imputer&#x27;,\n",
       "                                                                                          SimpleImputer(strategy=&#x27;most_frequent&#x27;)),\n",
       "                                                                                         (&#x27;onehot&#x27;,\n",
       "                                                                                          OneHotEncoder(handle_unknown=&#x27;ignore&#x27;))]),\n",
       "                                                                         [&#x27;BOROUGH&#x27;,\n",
       "                                                                          &#x27;NEIGHBORHOOD&#x27;,\n",
       "                                                                          &#x27;CAT_COMMERCIAL_UNITS&#x27;])])),\n",
       "                                       (&#x27;clf&#x27;,\n",
       "                                        KNeighborsRegressor(n_neighbors=3))]),\n",
       "             param_grid={&#x27;clf__n_neighbors&#x27;: array([1, 3]),\n",
       "                         &#x27;preprocessor__num__imputer__strategy&#x27;: [&#x27;mean&#x27;,\n",
       "                                                                  &#x27;median&#x27;]},\n",
       "             scoring=&#x27;accuracy&#x27;)</pre></div></div></div><div class=\"sk-parallel\"><div class=\"sk-parallel-item\"><div class=\"sk-item\"><div class=\"sk-label-container\"><div class=\"sk-label sk-toggleable\"><input class=\"sk-toggleable__control sk-hidden--visually\" id=\"sk-estimator-id-137\" type=\"checkbox\" ><label for=\"sk-estimator-id-137\" class=\"sk-toggleable__label sk-toggleable__label-arrow\">estimator: Pipeline</label><div class=\"sk-toggleable__content\"><pre>Pipeline(steps=[(&#x27;preprocessor&#x27;,\n",
       "                 ColumnTransformer(transformers=[(&#x27;num&#x27;,\n",
       "                                                  Pipeline(steps=[(&#x27;imputer&#x27;,\n",
       "                                                                   SimpleImputer()),\n",
       "                                                                  (&#x27;scaler&#x27;,\n",
       "                                                                   StandardScaler())]),\n",
       "                                                  [&#x27;TOTAL_UNITS&#x27;,\n",
       "                                                   &#x27;LAND_SQUARE_FEET&#x27;,\n",
       "                                                   &#x27;GROSS_SQUARE_FEET&#x27;, &#x27;AGE&#x27;,\n",
       "                                                   &#x27;COMMERCIAL_UNITS&#x27;,\n",
       "                                                   &#x27;RESIDENTIAL_UNITS&#x27;,\n",
       "                                                   &#x27;YEAR_BUILT&#x27;, &#x27;SALE_YEAR&#x27;]),\n",
       "                                                 (&#x27;cat&#x27;,\n",
       "                                                  Pipeline(steps=[(&#x27;imputer&#x27;,\n",
       "                                                                   SimpleImputer(strategy=&#x27;most_frequent&#x27;)),\n",
       "                                                                  (&#x27;onehot&#x27;,\n",
       "                                                                   OneHotEncoder(handle_unknown=&#x27;ignore&#x27;))]),\n",
       "                                                  [&#x27;BOROUGH&#x27;, &#x27;NEIGHBORHOOD&#x27;,\n",
       "                                                   &#x27;CAT_COMMERCIAL_UNITS&#x27;])])),\n",
       "                (&#x27;clf&#x27;, KNeighborsRegressor(n_neighbors=3))])</pre></div></div></div><div class=\"sk-serial\"><div class=\"sk-item\"><div class=\"sk-serial\"><div class=\"sk-item sk-dashed-wrapped\"><div class=\"sk-label-container\"><div class=\"sk-label sk-toggleable\"><input class=\"sk-toggleable__control sk-hidden--visually\" id=\"sk-estimator-id-138\" type=\"checkbox\" ><label for=\"sk-estimator-id-138\" class=\"sk-toggleable__label sk-toggleable__label-arrow\">preprocessor: ColumnTransformer</label><div class=\"sk-toggleable__content\"><pre>ColumnTransformer(transformers=[(&#x27;num&#x27;,\n",
       "                                 Pipeline(steps=[(&#x27;imputer&#x27;, SimpleImputer()),\n",
       "                                                 (&#x27;scaler&#x27;, StandardScaler())]),\n",
       "                                 [&#x27;TOTAL_UNITS&#x27;, &#x27;LAND_SQUARE_FEET&#x27;,\n",
       "                                  &#x27;GROSS_SQUARE_FEET&#x27;, &#x27;AGE&#x27;,\n",
       "                                  &#x27;COMMERCIAL_UNITS&#x27;, &#x27;RESIDENTIAL_UNITS&#x27;,\n",
       "                                  &#x27;YEAR_BUILT&#x27;, &#x27;SALE_YEAR&#x27;]),\n",
       "                                (&#x27;cat&#x27;,\n",
       "                                 Pipeline(steps=[(&#x27;imputer&#x27;,\n",
       "                                                  SimpleImputer(strategy=&#x27;most_frequent&#x27;)),\n",
       "                                                 (&#x27;onehot&#x27;,\n",
       "                                                  OneHotEncoder(handle_unknown=&#x27;ignore&#x27;))]),\n",
       "                                 [&#x27;BOROUGH&#x27;, &#x27;NEIGHBORHOOD&#x27;,\n",
       "                                  &#x27;CAT_COMMERCIAL_UNITS&#x27;])])</pre></div></div></div><div class=\"sk-parallel\"><div class=\"sk-parallel-item\"><div class=\"sk-item\"><div class=\"sk-label-container\"><div class=\"sk-label sk-toggleable\"><input class=\"sk-toggleable__control sk-hidden--visually\" id=\"sk-estimator-id-139\" type=\"checkbox\" ><label for=\"sk-estimator-id-139\" class=\"sk-toggleable__label sk-toggleable__label-arrow\">num</label><div class=\"sk-toggleable__content\"><pre>[&#x27;TOTAL_UNITS&#x27;, &#x27;LAND_SQUARE_FEET&#x27;, &#x27;GROSS_SQUARE_FEET&#x27;, &#x27;AGE&#x27;, &#x27;COMMERCIAL_UNITS&#x27;, &#x27;RESIDENTIAL_UNITS&#x27;, &#x27;YEAR_BUILT&#x27;, &#x27;SALE_YEAR&#x27;]</pre></div></div></div><div class=\"sk-serial\"><div class=\"sk-item\"><div class=\"sk-serial\"><div class=\"sk-item\"><div class=\"sk-estimator sk-toggleable\"><input class=\"sk-toggleable__control sk-hidden--visually\" id=\"sk-estimator-id-140\" type=\"checkbox\" ><label for=\"sk-estimator-id-140\" class=\"sk-toggleable__label sk-toggleable__label-arrow\">SimpleImputer</label><div class=\"sk-toggleable__content\"><pre>SimpleImputer()</pre></div></div></div><div class=\"sk-item\"><div class=\"sk-estimator sk-toggleable\"><input class=\"sk-toggleable__control sk-hidden--visually\" id=\"sk-estimator-id-141\" type=\"checkbox\" ><label for=\"sk-estimator-id-141\" class=\"sk-toggleable__label sk-toggleable__label-arrow\">StandardScaler</label><div class=\"sk-toggleable__content\"><pre>StandardScaler()</pre></div></div></div></div></div></div></div></div><div class=\"sk-parallel-item\"><div class=\"sk-item\"><div class=\"sk-label-container\"><div class=\"sk-label sk-toggleable\"><input class=\"sk-toggleable__control sk-hidden--visually\" id=\"sk-estimator-id-142\" type=\"checkbox\" ><label for=\"sk-estimator-id-142\" class=\"sk-toggleable__label sk-toggleable__label-arrow\">cat</label><div class=\"sk-toggleable__content\"><pre>[&#x27;BOROUGH&#x27;, &#x27;NEIGHBORHOOD&#x27;, &#x27;CAT_COMMERCIAL_UNITS&#x27;]</pre></div></div></div><div class=\"sk-serial\"><div class=\"sk-item\"><div class=\"sk-serial\"><div class=\"sk-item\"><div class=\"sk-estimator sk-toggleable\"><input class=\"sk-toggleable__control sk-hidden--visually\" id=\"sk-estimator-id-143\" type=\"checkbox\" ><label for=\"sk-estimator-id-143\" class=\"sk-toggleable__label sk-toggleable__label-arrow\">SimpleImputer</label><div class=\"sk-toggleable__content\"><pre>SimpleImputer(strategy=&#x27;most_frequent&#x27;)</pre></div></div></div><div class=\"sk-item\"><div class=\"sk-estimator sk-toggleable\"><input class=\"sk-toggleable__control sk-hidden--visually\" id=\"sk-estimator-id-144\" type=\"checkbox\" ><label for=\"sk-estimator-id-144\" class=\"sk-toggleable__label sk-toggleable__label-arrow\">OneHotEncoder</label><div class=\"sk-toggleable__content\"><pre>OneHotEncoder(handle_unknown=&#x27;ignore&#x27;)</pre></div></div></div></div></div></div></div></div></div></div><div class=\"sk-item\"><div class=\"sk-estimator sk-toggleable\"><input class=\"sk-toggleable__control sk-hidden--visually\" id=\"sk-estimator-id-145\" type=\"checkbox\" ><label for=\"sk-estimator-id-145\" class=\"sk-toggleable__label sk-toggleable__label-arrow\">KNeighborsRegressor</label><div class=\"sk-toggleable__content\"><pre>KNeighborsRegressor(n_neighbors=3)</pre></div></div></div></div></div></div></div></div></div></div></div></div>"
      ],
      "text/plain": [
       "GridSearchCV(cv=5,\n",
       "             estimator=Pipeline(steps=[('preprocessor',\n",
       "                                        ColumnTransformer(transformers=[('num',\n",
       "                                                                         Pipeline(steps=[('imputer',\n",
       "                                                                                          SimpleImputer()),\n",
       "                                                                                         ('scaler',\n",
       "                                                                                          StandardScaler())]),\n",
       "                                                                         ['TOTAL_UNITS',\n",
       "                                                                          'LAND_SQUARE_FEET',\n",
       "                                                                          'GROSS_SQUARE_FEET',\n",
       "                                                                          'AGE',\n",
       "                                                                          'COMMERCIAL_UNITS',\n",
       "                                                                          'RESIDENTIAL_UNITS',\n",
       "                                                                          'YEAR_BUILT',\n",
       "                                                                          'SALE_YEAR']),\n",
       "                                                                        ('cat',\n",
       "                                                                         Pipeline(steps=[('imputer',\n",
       "                                                                                          SimpleImputer(strategy='most_frequent')),\n",
       "                                                                                         ('onehot',\n",
       "                                                                                          OneHotEncoder(handle_unknown='ignore'))]),\n",
       "                                                                         ['BOROUGH',\n",
       "                                                                          'NEIGHBORHOOD',\n",
       "                                                                          'CAT_COMMERCIAL_UNITS'])])),\n",
       "                                       ('clf',\n",
       "                                        KNeighborsRegressor(n_neighbors=3))]),\n",
       "             param_grid={'clf__n_neighbors': array([1, 3]),\n",
       "                         'preprocessor__num__imputer__strategy': ['mean',\n",
       "                                                                  'median']},\n",
       "             scoring='accuracy')"
      ]
     },
     "execution_count": 1634,
     "metadata": {},
     "output_type": "execute_result"
    }
   ],
   "source": [
    "#grid_search.fit(X_train,y_train)"
   ]
  },
  {
   "cell_type": "code",
   "execution_count": 473,
   "id": "f7e10a85",
   "metadata": {},
   "outputs": [
    {
     "data": {
      "text/html": [
       "<style>#sk-container-id-14 {color: black;background-color: white;}#sk-container-id-14 pre{padding: 0;}#sk-container-id-14 div.sk-toggleable {background-color: white;}#sk-container-id-14 label.sk-toggleable__label {cursor: pointer;display: block;width: 100%;margin-bottom: 0;padding: 0.3em;box-sizing: border-box;text-align: center;}#sk-container-id-14 label.sk-toggleable__label-arrow:before {content: \"▸\";float: left;margin-right: 0.25em;color: #696969;}#sk-container-id-14 label.sk-toggleable__label-arrow:hover:before {color: black;}#sk-container-id-14 div.sk-estimator:hover label.sk-toggleable__label-arrow:before {color: black;}#sk-container-id-14 div.sk-toggleable__content {max-height: 0;max-width: 0;overflow: hidden;text-align: left;background-color: #f0f8ff;}#sk-container-id-14 div.sk-toggleable__content pre {margin: 0.2em;color: black;border-radius: 0.25em;background-color: #f0f8ff;}#sk-container-id-14 input.sk-toggleable__control:checked~div.sk-toggleable__content {max-height: 200px;max-width: 100%;overflow: auto;}#sk-container-id-14 input.sk-toggleable__control:checked~label.sk-toggleable__label-arrow:before {content: \"▾\";}#sk-container-id-14 div.sk-estimator input.sk-toggleable__control:checked~label.sk-toggleable__label {background-color: #d4ebff;}#sk-container-id-14 div.sk-label input.sk-toggleable__control:checked~label.sk-toggleable__label {background-color: #d4ebff;}#sk-container-id-14 input.sk-hidden--visually {border: 0;clip: rect(1px 1px 1px 1px);clip: rect(1px, 1px, 1px, 1px);height: 1px;margin: -1px;overflow: hidden;padding: 0;position: absolute;width: 1px;}#sk-container-id-14 div.sk-estimator {font-family: monospace;background-color: #f0f8ff;border: 1px dotted black;border-radius: 0.25em;box-sizing: border-box;margin-bottom: 0.5em;}#sk-container-id-14 div.sk-estimator:hover {background-color: #d4ebff;}#sk-container-id-14 div.sk-parallel-item::after {content: \"\";width: 100%;border-bottom: 1px solid gray;flex-grow: 1;}#sk-container-id-14 div.sk-label:hover label.sk-toggleable__label {background-color: #d4ebff;}#sk-container-id-14 div.sk-serial::before {content: \"\";position: absolute;border-left: 1px solid gray;box-sizing: border-box;top: 0;bottom: 0;left: 50%;z-index: 0;}#sk-container-id-14 div.sk-serial {display: flex;flex-direction: column;align-items: center;background-color: white;padding-right: 0.2em;padding-left: 0.2em;position: relative;}#sk-container-id-14 div.sk-item {position: relative;z-index: 1;}#sk-container-id-14 div.sk-parallel {display: flex;align-items: stretch;justify-content: center;background-color: white;position: relative;}#sk-container-id-14 div.sk-item::before, #sk-container-id-14 div.sk-parallel-item::before {content: \"\";position: absolute;border-left: 1px solid gray;box-sizing: border-box;top: 0;bottom: 0;left: 50%;z-index: -1;}#sk-container-id-14 div.sk-parallel-item {display: flex;flex-direction: column;z-index: 1;position: relative;background-color: white;}#sk-container-id-14 div.sk-parallel-item:first-child::after {align-self: flex-end;width: 50%;}#sk-container-id-14 div.sk-parallel-item:last-child::after {align-self: flex-start;width: 50%;}#sk-container-id-14 div.sk-parallel-item:only-child::after {width: 0;}#sk-container-id-14 div.sk-dashed-wrapped {border: 1px dashed gray;margin: 0 0.4em 0.5em 0.4em;box-sizing: border-box;padding-bottom: 0.4em;background-color: white;}#sk-container-id-14 div.sk-label label {font-family: monospace;font-weight: bold;display: inline-block;line-height: 1.2em;}#sk-container-id-14 div.sk-label-container {text-align: center;}#sk-container-id-14 div.sk-container {/* jupyter's `normalize.less` sets `[hidden] { display: none; }` but bootstrap.min.css set `[hidden] { display: none !important; }` so we also need the `!important` here to be able to override the default hidden behavior on the sphinx rendered scikit-learn.org. See: https://github.com/scikit-learn/scikit-learn/issues/21755 */display: inline-block !important;position: relative;}#sk-container-id-14 div.sk-text-repr-fallback {display: none;}</style><div id=\"sk-container-id-14\" class=\"sk-top-container\"><div class=\"sk-text-repr-fallback\"><pre>Pipeline(steps=[(&#x27;preprocessor&#x27;,\n",
       "                 ColumnTransformer(transformers=[(&#x27;num&#x27;,\n",
       "                                                  Pipeline(steps=[(&#x27;imputer&#x27;,\n",
       "                                                                   SimpleImputer()),\n",
       "                                                                  (&#x27;scaler&#x27;,\n",
       "                                                                   StandardScaler())]),\n",
       "                                                  [&#x27;TOTAL_UNITS&#x27;,\n",
       "                                                   &#x27;LAND_SQUARE_FEET&#x27;,\n",
       "                                                   &#x27;GROSS_SQUARE_FEET&#x27;,\n",
       "                                                   &#x27;YEAR_BUILT&#x27;, &#x27;SALE_YEAR&#x27;]),\n",
       "                                                 (&#x27;cat&#x27;,\n",
       "                                                  Pipeline(steps=[(&#x27;imputer&#x27;,\n",
       "                                                                   SimpleImputer(strategy=&#x27;most_frequent&#x27;)),\n",
       "                                                                  (&#x27;onehot&#x27;,\n",
       "                                                                   OneHotEncoder(handle_unknown=&#x27;ignore&#x27;))]),\n",
       "                                                  [&#x27;BOROUGH&#x27;, &#x27;NEIGHBORHOOD&#x27;,\n",
       "                                                   &#x27;TAX_CLASS_AT_TIME_OF_SALE&#x27;,\n",
       "                                                   &#x27;BUILDING_CLASS_AT_TIME_OF_SALE&#x27;])])),\n",
       "                (&#x27;clf&#x27;, KNeighborsClassifier(n_neighbors=1))])</pre><b>In a Jupyter environment, please rerun this cell to show the HTML representation or trust the notebook. <br />On GitHub, the HTML representation is unable to render, please try loading this page with nbviewer.org.</b></div><div class=\"sk-container\" hidden><div class=\"sk-item sk-dashed-wrapped\"><div class=\"sk-label-container\"><div class=\"sk-label sk-toggleable\"><input class=\"sk-toggleable__control sk-hidden--visually\" id=\"sk-estimator-id-97\" type=\"checkbox\" ><label for=\"sk-estimator-id-97\" class=\"sk-toggleable__label sk-toggleable__label-arrow\">Pipeline</label><div class=\"sk-toggleable__content\"><pre>Pipeline(steps=[(&#x27;preprocessor&#x27;,\n",
       "                 ColumnTransformer(transformers=[(&#x27;num&#x27;,\n",
       "                                                  Pipeline(steps=[(&#x27;imputer&#x27;,\n",
       "                                                                   SimpleImputer()),\n",
       "                                                                  (&#x27;scaler&#x27;,\n",
       "                                                                   StandardScaler())]),\n",
       "                                                  [&#x27;TOTAL_UNITS&#x27;,\n",
       "                                                   &#x27;LAND_SQUARE_FEET&#x27;,\n",
       "                                                   &#x27;GROSS_SQUARE_FEET&#x27;,\n",
       "                                                   &#x27;YEAR_BUILT&#x27;, &#x27;SALE_YEAR&#x27;]),\n",
       "                                                 (&#x27;cat&#x27;,\n",
       "                                                  Pipeline(steps=[(&#x27;imputer&#x27;,\n",
       "                                                                   SimpleImputer(strategy=&#x27;most_frequent&#x27;)),\n",
       "                                                                  (&#x27;onehot&#x27;,\n",
       "                                                                   OneHotEncoder(handle_unknown=&#x27;ignore&#x27;))]),\n",
       "                                                  [&#x27;BOROUGH&#x27;, &#x27;NEIGHBORHOOD&#x27;,\n",
       "                                                   &#x27;TAX_CLASS_AT_TIME_OF_SALE&#x27;,\n",
       "                                                   &#x27;BUILDING_CLASS_AT_TIME_OF_SALE&#x27;])])),\n",
       "                (&#x27;clf&#x27;, KNeighborsClassifier(n_neighbors=1))])</pre></div></div></div><div class=\"sk-serial\"><div class=\"sk-item sk-dashed-wrapped\"><div class=\"sk-label-container\"><div class=\"sk-label sk-toggleable\"><input class=\"sk-toggleable__control sk-hidden--visually\" id=\"sk-estimator-id-98\" type=\"checkbox\" ><label for=\"sk-estimator-id-98\" class=\"sk-toggleable__label sk-toggleable__label-arrow\">preprocessor: ColumnTransformer</label><div class=\"sk-toggleable__content\"><pre>ColumnTransformer(transformers=[(&#x27;num&#x27;,\n",
       "                                 Pipeline(steps=[(&#x27;imputer&#x27;, SimpleImputer()),\n",
       "                                                 (&#x27;scaler&#x27;, StandardScaler())]),\n",
       "                                 [&#x27;TOTAL_UNITS&#x27;, &#x27;LAND_SQUARE_FEET&#x27;,\n",
       "                                  &#x27;GROSS_SQUARE_FEET&#x27;, &#x27;YEAR_BUILT&#x27;,\n",
       "                                  &#x27;SALE_YEAR&#x27;]),\n",
       "                                (&#x27;cat&#x27;,\n",
       "                                 Pipeline(steps=[(&#x27;imputer&#x27;,\n",
       "                                                  SimpleImputer(strategy=&#x27;most_frequent&#x27;)),\n",
       "                                                 (&#x27;onehot&#x27;,\n",
       "                                                  OneHotEncoder(handle_unknown=&#x27;ignore&#x27;))]),\n",
       "                                 [&#x27;BOROUGH&#x27;, &#x27;NEIGHBORHOOD&#x27;,\n",
       "                                  &#x27;TAX_CLASS_AT_TIME_OF_SALE&#x27;,\n",
       "                                  &#x27;BUILDING_CLASS_AT_TIME_OF_SALE&#x27;])])</pre></div></div></div><div class=\"sk-parallel\"><div class=\"sk-parallel-item\"><div class=\"sk-item\"><div class=\"sk-label-container\"><div class=\"sk-label sk-toggleable\"><input class=\"sk-toggleable__control sk-hidden--visually\" id=\"sk-estimator-id-99\" type=\"checkbox\" ><label for=\"sk-estimator-id-99\" class=\"sk-toggleable__label sk-toggleable__label-arrow\">num</label><div class=\"sk-toggleable__content\"><pre>[&#x27;TOTAL_UNITS&#x27;, &#x27;LAND_SQUARE_FEET&#x27;, &#x27;GROSS_SQUARE_FEET&#x27;, &#x27;YEAR_BUILT&#x27;, &#x27;SALE_YEAR&#x27;]</pre></div></div></div><div class=\"sk-serial\"><div class=\"sk-item\"><div class=\"sk-serial\"><div class=\"sk-item\"><div class=\"sk-estimator sk-toggleable\"><input class=\"sk-toggleable__control sk-hidden--visually\" id=\"sk-estimator-id-100\" type=\"checkbox\" ><label for=\"sk-estimator-id-100\" class=\"sk-toggleable__label sk-toggleable__label-arrow\">SimpleImputer</label><div class=\"sk-toggleable__content\"><pre>SimpleImputer()</pre></div></div></div><div class=\"sk-item\"><div class=\"sk-estimator sk-toggleable\"><input class=\"sk-toggleable__control sk-hidden--visually\" id=\"sk-estimator-id-101\" type=\"checkbox\" ><label for=\"sk-estimator-id-101\" class=\"sk-toggleable__label sk-toggleable__label-arrow\">StandardScaler</label><div class=\"sk-toggleable__content\"><pre>StandardScaler()</pre></div></div></div></div></div></div></div></div><div class=\"sk-parallel-item\"><div class=\"sk-item\"><div class=\"sk-label-container\"><div class=\"sk-label sk-toggleable\"><input class=\"sk-toggleable__control sk-hidden--visually\" id=\"sk-estimator-id-102\" type=\"checkbox\" ><label for=\"sk-estimator-id-102\" class=\"sk-toggleable__label sk-toggleable__label-arrow\">cat</label><div class=\"sk-toggleable__content\"><pre>[&#x27;BOROUGH&#x27;, &#x27;NEIGHBORHOOD&#x27;, &#x27;TAX_CLASS_AT_TIME_OF_SALE&#x27;, &#x27;BUILDING_CLASS_AT_TIME_OF_SALE&#x27;]</pre></div></div></div><div class=\"sk-serial\"><div class=\"sk-item\"><div class=\"sk-serial\"><div class=\"sk-item\"><div class=\"sk-estimator sk-toggleable\"><input class=\"sk-toggleable__control sk-hidden--visually\" id=\"sk-estimator-id-103\" type=\"checkbox\" ><label for=\"sk-estimator-id-103\" class=\"sk-toggleable__label sk-toggleable__label-arrow\">SimpleImputer</label><div class=\"sk-toggleable__content\"><pre>SimpleImputer(strategy=&#x27;most_frequent&#x27;)</pre></div></div></div><div class=\"sk-item\"><div class=\"sk-estimator sk-toggleable\"><input class=\"sk-toggleable__control sk-hidden--visually\" id=\"sk-estimator-id-104\" type=\"checkbox\" ><label for=\"sk-estimator-id-104\" class=\"sk-toggleable__label sk-toggleable__label-arrow\">OneHotEncoder</label><div class=\"sk-toggleable__content\"><pre>OneHotEncoder(handle_unknown=&#x27;ignore&#x27;)</pre></div></div></div></div></div></div></div></div></div></div><div class=\"sk-item\"><div class=\"sk-estimator sk-toggleable\"><input class=\"sk-toggleable__control sk-hidden--visually\" id=\"sk-estimator-id-105\" type=\"checkbox\" ><label for=\"sk-estimator-id-105\" class=\"sk-toggleable__label sk-toggleable__label-arrow\">KNeighborsClassifier</label><div class=\"sk-toggleable__content\"><pre>KNeighborsClassifier(n_neighbors=1)</pre></div></div></div></div></div></div></div>"
      ],
      "text/plain": [
       "Pipeline(steps=[('preprocessor',\n",
       "                 ColumnTransformer(transformers=[('num',\n",
       "                                                  Pipeline(steps=[('imputer',\n",
       "                                                                   SimpleImputer()),\n",
       "                                                                  ('scaler',\n",
       "                                                                   StandardScaler())]),\n",
       "                                                  ['TOTAL_UNITS',\n",
       "                                                   'LAND_SQUARE_FEET',\n",
       "                                                   'GROSS_SQUARE_FEET',\n",
       "                                                   'YEAR_BUILT', 'SALE_YEAR']),\n",
       "                                                 ('cat',\n",
       "                                                  Pipeline(steps=[('imputer',\n",
       "                                                                   SimpleImputer(strategy='most_frequent')),\n",
       "                                                                  ('onehot',\n",
       "                                                                   OneHotEncoder(handle_unknown='ignore'))]),\n",
       "                                                  ['BOROUGH', 'NEIGHBORHOOD',\n",
       "                                                   'TAX_CLASS_AT_TIME_OF_SALE',\n",
       "                                                   'BUILDING_CLASS_AT_TIME_OF_SALE'])])),\n",
       "                ('clf', KNeighborsClassifier(n_neighbors=1))])"
      ]
     },
     "execution_count": 473,
     "metadata": {},
     "output_type": "execute_result"
    }
   ],
   "source": [
    "#grid_search.best_estimator_"
   ]
  },
  {
   "cell_type": "code",
   "execution_count": 474,
   "id": "6ff23fa4",
   "metadata": {},
   "outputs": [
    {
     "data": {
      "text/plain": [
       "0.02006928943452381"
      ]
     },
     "execution_count": 474,
     "metadata": {},
     "output_type": "execute_result"
    }
   ],
   "source": [
    "#grid_search.best_score_"
   ]
  },
  {
   "cell_type": "code",
   "execution_count": null,
   "id": "e119d6c1",
   "metadata": {},
   "outputs": [],
   "source": []
  }
 ],
 "metadata": {
  "kernelspec": {
   "display_name": "Python 3 (ipykernel)",
   "language": "python",
   "name": "python3"
  },
  "language_info": {
   "codemirror_mode": {
    "name": "ipython",
    "version": 3
   },
   "file_extension": ".py",
   "mimetype": "text/x-python",
   "name": "python",
   "nbconvert_exporter": "python",
   "pygments_lexer": "ipython3",
   "version": "3.9.13"
  }
 },
 "nbformat": 4,
 "nbformat_minor": 5
}
